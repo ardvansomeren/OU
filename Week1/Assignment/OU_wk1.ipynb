{
 "cells": [
  {
   "cell_type": "markdown",
   "metadata": {},
   "source": [
    "# BIG data and Statistics"
   ]
  },
  {
   "cell_type": "markdown",
   "metadata": {},
   "source": [
    "Management, Science & Technology - IC3110 Big Data en statistiek\n",
    "https://youlearn.ou.nl/web/ic3110-statistiek-en-big-data/dashboard"
   ]
  },
  {
   "cell_type": "markdown",
   "metadata": {},
   "source": [
    "## Kennismaken\n",
    "Mijn naam is Ard van Someren en ik werk als trainer en consultant. Ik heb in mijn werk veel te maken met data, gestructureerd, maar ook ongestructureerd.\n",
    "\n",
    "Tijdens een aantal eerdere cursussen heb ik al kennisgemaakt met Big Data en Data Science. Met deze cursus deze kennis te verbreden en te verdiepen.\n",
    "\n",
    "Succes iedereen."
   ]
  },
  {
   "cell_type": "markdown",
   "metadata": {},
   "source": [
    "## Eigen complexe vraagstelling : Eindhoven - niet aantrekkelijk genoeg\n",
    "Ik heb gekozen voor een situatie buiten mijn werk. De stad waar ik woon - Eindhoven - heeft zich in de afgelopen jaren enorm ontwikkeld. Niet in de laatste plaats door de high tech industrie. Binnen deze high tech industrie zijn veel mensen werkzaam die van buiten Nederland komen. De inbreng van deze expats is essentieel om de branbantse economische motor aan de gang te houden. Een uitspraak van een van de bestuursvoorzitters van deze techondernemingen heeft mij getriggerd.\n",
    "\n",
    "'Als wij willen blijven ontwikkelen hebben wij deze mensen nodig, en als wij willen dat deze mensen hier komen en blijven moeten we ze wel wat te bieden hebben.'\n",
    "\n",
    "De stad Eindhoven heeft zich de laatste decennia stevig ontwikkeld en is daarmee zeker aantrekkelijker geworden. Maar in hoeverre heeft dit een positieve invloed op de aantrekkingskracht op high tech personeel?\n",
    "\n",
    "Mijn vraag is nog niet helemaal concreet en scherp, maar mijn eerste 'voorzichtige' hypothese luidt: *Eindhoven, niet aantrekkelijk genoeg* .\n",
    "\n",
    "### Bronnen en aanpak\n",
    "Er is een groot aantal openbare bronnen beschikbaar waar ik gebruik van wil maken, zoals:\n",
    "\n",
    "CBS statline - demografische ontwikkeling, economische ontwikkeling\n",
    "Eindhoven OpenData - city monitor data\n",
    "Daarnaast zijn er diverse artikelen waarin informatie over dit onderwerp is opgenomen en uitspraken gedaan worden die de moeite van nader onderzoek waard zijn.\n",
    "\n",
    "### Doel\n",
    "Als er al een doel is zou het onderzoek de hypothese moeten beantwoorden. Het zou mooi zijn als er onderweg dan ook aanwijzingen zijn waarmee 'een voorstel tot verbetering' gedaan kan worden."
   ]
  },
  {
   "cell_type": "markdown",
   "metadata": {},
   "source": [
    "# Afrondende opdracht Week 1"
   ]
  },
  {
   "cell_type": "markdown",
   "metadata": {},
   "source": [
    "*Telt mee in eindoordeel*\n",
    "\n",
    "Je hebt in deze eerste week al wat gehoord over verschillende aspecten van big data en statistiek en de kansen en beperkingen.\n",
    "\n",
    "Maak een globaal projectplan voor een concreet complex vraagstuk dat je met behulp van big data en statistiek zou kunnen beantwoorden.\n",
    "\n",
    "Het mag het vraagstuk zijn uit de voorkennisopdracht, maar je mag ook een ander vraagstuk kiezen.\n",
    "\n",
    "Kijk eventueel nog eens naar de voorkennisopdracht voor een aantal suggesties. Het belangrijkste uitgangspunt is nog steeds je informatiebehoefte:\n",
    "\n",
    "Wat wil je weten en welke actie(s) zou je daarna willen kunnen nemen? Dat zou stap 1 in je projectplan moeten zijn.\n",
    "Welke stappen komen daarna? Welke data zou je graag willen hebben, hoeveel data en hoe zou je die kunnen verkrijgen?\n",
    "Welke personen heb je nodig voor het project en wat doe je met de resultaten die je vindt?\n",
    "Probeer ook een grove inschatting te maken van de benodigde tijd per stap.\n",
    "Het doel van deze opdracht is dat je een beeld krijgt van wat er allemaal komt kijken bij een dergelijk project en hoe de verschillende stappen met elkaar samenhangen.\n",
    "\n",
    "In de volgende weken zullen we dieper ingaan op de verschillende inhoudelijke aspecten, maar het is goed als je al een globaal beeld van het proces hebt.\n",
    "\n",
    "Bij een projectplan hoort normaal ook een inschatting van de kosten. Dit hangt sterk samen met de gewenste kwaliteit en daar komen we later op terug. Kosten kunnen jullie dus voor nu negeren."
   ]
  },
  {
   "cell_type": "markdown",
   "metadata": {},
   "source": [
    "## Globaal projectplan"
   ]
  },
  {
   "cell_type": "markdown",
   "metadata": {},
   "source": [
    "### 1. Vraag, doel en aanpak\n",
    "*schatting voor deze stap binnen het kader van de cursus: 1 week*\n",
    "\n",
    "   * Concretiseren van de vraag\n",
    "   * Meetbare doelen definieren\n",
    "   * Aanpak"
   ]
  },
  {
   "cell_type": "markdown",
   "metadata": {},
   "source": [
    "#### Eindhoven niet aantrekkelijk genoeg\n",
    "\n",
    "Kan Big Data inzicht geven in de aantrekkingskracht van de stad Eindhoven op Expats? Welke keuzen kan de stad Eindhoven maken om het voor Expats aantrekkelijk te maken om zich (tijdelijk) in deze stad te vestigen? Dragen deze keuzen bij aan de keuze voor een stad, een van de hightech bedrijven in de regio en uiteindelijk ook de welvaart van de stad?\n",
    "Deze vraagstelling is zeker nog niet concreet genoeg voor de beschikbare tijd van deze cursus. \n",
    "\n",
    "#### Definitie van meetbare doelen\n",
    "\n",
    "   * Identificatie van een aantal factoren die van invloed zijn op het welzijn van iwoners m.n. expats in de stad Eindhoven e.o.\n",
    "   * Bepalen of en in welke mate er een verband is tussen het welzijn van de expats en de economische groei van de stad.\n",
    "\n",
    "#### Welke bronnen zijn beschikbaar\n",
    "\n",
    "Welke data is (openbaar) beschikbaar en wat is de kwaliteit van deze data? Eerste verkenningen en antwoord op de vraag is deze data voldoende om de vraag te onderzoeken, of is er meer of andere data nodig?\n",
    "\n",
    "   * Identificeren van data- / informatiebronnen\n",
    "    - CBS statline - demografische ontwikkeling, economische ontwikkeling\n",
    "    - Eindhoven OpenData - city monitor data\n",
    "    - Daarnaast zijn er diverse artikelen waarin informatie over dit onderwerp is opgenomen en uitspraken gedaan worden die de moeite van nader onderzoek waard zijn."
   ]
  },
  {
   "cell_type": "markdown",
   "metadata": {},
   "source": [
    "### 2. Data verzamelen\n",
    "\n",
    "*schatting voor deze stap binnen het kader van de cursus: 1 week*\n",
    "\n",
    "   * Eisen aan de data\n",
    "   * Verzamelen van de data\n",
    "   * Data leren kennen"
   ]
  },
  {
   "cell_type": "markdown",
   "metadata": {},
   "source": [
    "### 3. Data voorbereiden en model ontwikkelen\n",
    "\n",
    "*schatting van deze stap binnen het kader van de cursus: 3 weken*\n",
    "\n",
    "   * Opschonen van de data en voorbereiden voor het model\n",
    "   * Ontwikkelen en kiezen van het model\n",
    "   * Visualiseren van de informatie"
   ]
  },
  {
   "cell_type": "markdown",
   "metadata": {},
   "source": [
    "### 4. Model evalueren en 'implementeren'\n",
    "\n",
    "*schatting van deze stap binnen het kader van de cursus: 1 week*\n",
    "\n",
    "   * Optimaleren van het model\n",
    "   * Automatiseren van het model\n",
    "\n"
   ]
  }
 ],
 "metadata": {
  "kernelspec": {
   "display_name": "Python",
   "language": "python",
   "name": "conda-env-python-py"
  },
  "language_info": {
   "codemirror_mode": {
    "name": "ipython",
    "version": 3
   },
   "file_extension": ".py",
   "mimetype": "text/x-python",
   "name": "python",
   "nbconvert_exporter": "python",
   "pygments_lexer": "ipython3",
   "version": "3.6.7"
  }
 },
 "nbformat": 4,
 "nbformat_minor": 4
}
