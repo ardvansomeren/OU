{
 "cells": [
  {
   "cell_type": "markdown",
   "metadata": {},
   "source": [
    "# BIG data and Statistics"
   ]
  },
  {
   "cell_type": "markdown",
   "metadata": {},
   "source": [
    "Management, Science & Technology - IC3110 Big Data en statistiek\n",
    "https://youlearn.ou.nl/web/ic3110-statistiek-en-big-data/dashboard"
   ]
  },
  {
   "cell_type": "markdown",
   "metadata": {},
   "source": [
    "## Schatten van zetelverdeling voor Tweede Kamer.\n",
    "\n",
    "\n",
    "Volgens de Nederlandse Kieswet vinden Tweede Kamerverkiezingen om de vier jaar plaats. In aanloop van de eerstvolgende verkiezingen wordt gevraagd een schatting te maken van de zetelverdeling over de verschillende politieke partijen.\n",
    "\n",
    "Bedenk hiervoor **twee onderzoeksontwerpen**, een dure variant en een goedkope. Beschrijf hierbij ten minste de volgende aspecten:\n",
    "\n",
    "   * Wat is de doelpopulatie (zeer uitgebreide groep mensen waarop het onderzoek zich richt)?\n",
    "   * Wordt gebruik gemaakt van steekproef, register, website, sociale media, andere databron, of combinatie hiervan?\n",
    "   * Als een steekproef wordt gebruikt: waar wordt die uit getrokken, hoe wordt getrokken en hoe groot is de steekproef?\n",
    "   * Als databronnen worden gebruikt: welke zijn dat zijn, en wat kan er uit worden gehaald om de onderzoeksvraag te beantwoorden?\n",
    "   * Als een vragenlijst wordt gebruikt, welke vragen moeten er minimaal in staan?\n",
    "   * Via welke methoden zijn of worden de data verzameld? Denk hierbij aan papier, e-mail, internet, telefonisch, bij de mensen thuis, bij het station, op de markt, of anderszins.\n",
    "   * Hoe goed wordt de doelpopulatie weerspiegeld door de verzamelde data?\n",
    "   * Hoe wordt de zetelverdeling geschat met de verzamelde data?\n",
    "   * Hoe nauwkeurig is deze schatting?\n",
    "   * Hoe snel kan het onderzoek worden herhaald om de schatting te actualiseren?\n",
    "   * Hoeveel tijd kosten de voorbereiding, uitvoering en analyse van het onderzoek?\n",
    "   * Welke privacy issues zijn er bij het gekozen onderzoeksontwerp?\n",
    "\n",
    "Denk aan een enquête onder een steekproef uit de stemgerechtigde bevolking, een opiniepeiling, of een voorspelmodel met gebruik van big data."
   ]
  },
  {
   "cell_type": "markdown",
   "metadata": {},
   "source": [
    "## De dure variant - Enquete onder een steekproef uit de stemgerechtigde bevolking."
   ]
  },
  {
   "cell_type": "markdown",
   "metadata": {},
   "source": [
    "De doelpopulatie (N) is de kiesgerechtigde bevolking (bijna 13 miljoen volgens CBS in 2017; (1)).\n",
    "Het is niet reeel om te veronderstellen dat het onderzoek zich letterlijk op de gehele populatie zal richten. Er zal dus een onderzoekpopulatie gedefinieerd moeten worden waaruit een aselecte steekproef (n) getrokken moet worden.\n",
    "De omvang van de aselecte steekproef (5) is afhankelijk van de omvang van de populatie (N = 13 miljoen), de verwachte betrouwbaarheid (95%) en de verwachte nauwkeurigheid van het resultaat (afwijking 5%) van het onderzoek. De steekproef omvang zou dan 384 moeten zijn (6).\n"
   ]
  },
  {
   "cell_type": "markdown",
   "metadata": {},
   "source": [
    "Om tot een aselecte steekproef te komen zou de gehele populatie bereikbaar moeten zijn. De enquete zou telefonisch uitgevoerd kunnen worden. Om het onderzoek op te kunnen zetten is dan wel de contact informatie nodig, geselecteerd uit het bevolkingsregister. Het benaderen van de respondenten, bijvoorbeeld eerst via een persoonlijke brief met de vraag om aan de enquete deel te nemen, neemt veel tijd in beslag. Met name om het herhalen van het verzoek om deel te nemen of het persoonlijk benaderen kan veel (door)looptijd betekenen. Een aantal weken.\n"
   ]
  },
  {
   "cell_type": "markdown",
   "metadata": {},
   "source": [
    "Als we uit het onderzoek een conclusie willen trekken over de zetelverdeling na de verkiezingen, zullen we minimaal moeten weten wat de respondenten stemmen.  Als we willen gaan toetsen hoe een bepaalde groep gaat stemmen zullen we meer informatie moeten hebben. Bijvoorbeeld demografische kenmerken zoals geslacht, opleiding, inkomen, regio - zoals beschikbaar in de bevolkingsregisters.\n",
    "Het analyseren van de enquete en het schatten van de zetelverdeling op basis van de enquete onder een steekproef neemt opnieuw een of twee weken in beslag."
   ]
  },
  {
   "cell_type": "markdown",
   "metadata": {},
   "source": [
    "Bij het herhalen van het onderzoek begint het hele circus opnieuw vanaf het moment van de selectie van de steekproef. Het selecteren en het benaderen van de respondenten rekening houdend met bereidheid om te reageren, betekend een lange doorlooptijd.\n",
    "Bij het volledig annoniem benaderen zou privacy geen grote rol spelen. Maar bij het onderzoeken van meer dan enkel het antwoord op de vraag, welke partij stemt u op, wordt dit een andere zaak. Als de hiervoor genoemde demografische kenmerken ook worden gevraagd en als er sprake is van contact gegevens van de respondent."
   ]
  },
  {
   "cell_type": "markdown",
   "metadata": {},
   "source": [
    "## De goedkope variant - voorspelmodel"
   ]
  },
  {
   "cell_type": "markdown",
   "metadata": {},
   "source": [
    "De doelpopulatie (N) is de kiesgerechtigde bevolking. Via een aselecte steekproef (n) kan een opiniepanel(s) opgesteld worden waar het stemgedrag via een enquete uitgevraagd kan worden."
   ]
  },
  {
   "cell_type": "markdown",
   "metadata": {},
   "source": [
    "Dit panel is de testset voor het voorspelmodel (Machinelearning). Het ontwikkelen van de algoritme van het model en het leren van het model kost in eerste instantie wat tijd. Het herhalen van het onderzoek kost echter minimale voorbereidingstijd.\n",
    "Door toetsen van het stemgedrag bij het opniepanel kan het model na invoering van deze resultaten direct een schatting maken van de zetelverdeling. De herbruikbaarheid van het model geldt voor elke verkiezingsperiode en kan ook gebruikt worden voor bijvoorbeeld de zetelverdeling van provinciale of gemeentelijke verkiezingen."
   ]
  },
  {
   "cell_type": "markdown",
   "metadata": {},
   "source": [
    "Het aanvullen van de informatie voor de opiniepanels kost in eerste instantie net zoveel inspanningen als in de dure variant. Het herhalen van de schatting kost echter nauwelijks voorbereidingstijd, waarna verwerken geautomatiseerd uitgevoerd kan worden."
   ]
  },
  {
   "cell_type": "markdown",
   "metadata": {},
   "source": [
    "Omdat het model toegang heeft tot een enorme hoeveelheid data is de kans dat combinaties van registers en databases onbedoeld meer kunnen onthullen over de persoongegevens van respondenten of 'geanonimiseerde' personen in de data set. Een risico wat bij kleinere data sets minder aanwezig is."
   ]
  },
  {
   "cell_type": "markdown",
   "metadata": {},
   "source": [
    "## Bronnen & achtergronden\n",
    "\n",
    "1. Aantal kiesgerechtigden - https://www.cbs.nl/nl-nl/nieuws/2017/07/bijna-13-miljoen-kiesgerechtigden-op-15-maart\n",
    "2. grondbegrippen statistiek III - https://www.ntvg.nl/artikelen/enkele-grondbegrippen-uit-de-statistiek-iii-aselecte-steekproeven-en-aselecte-toewijzing\n",
    "3. grondbegrippen statistiek IV - https://www.ntvg.nl/artikelen/enkele-grondbegrippen-uit-de-statistiek-iv-doelpopulaties-en-onderzoekpopulaties-bij/volledig\n",
    "4. grondbegrippen statistiek V - https://www.ntvg.nl/artikelen/enkele-grondbegrippen-uit-de-statistiek-v-aselecte-steekproeven-en-als-aselect-te\n",
    "5. Omvang van een steekproef - https://www.allesovermarktonderzoek.nl/steekproef-algemeen/steekproef-berekenen/\n",
    "6. Steekproefcalculator - https://www.allesovermarktonderzoek.nl/steekproef-algemeen/steekproefcalculator/#Depopulairstesteekproefcalculatorvannederland / http://www.raosoft.com/samplesize.html\n",
    "7. Wat kost een onderzoek - http://www.inzichtimpact.nl/wat-kost-marktonderzoek.html\n",
    "8. Valkuilen in marktonderzoek - https://moa04.artoo.nl/clou-moaweb-images/images/bestanden/pdf/Studenteninformatie/WESTENDORP_OLIVIER_Valkuilen_in_marktonderzoek_2014.pdf"
   ]
  }
 ],
 "metadata": {
  "kernelspec": {
   "display_name": "Python",
   "language": "python",
   "name": "conda-env-python-py"
  },
  "language_info": {
   "codemirror_mode": {
    "name": "ipython",
    "version": 3
   },
   "file_extension": ".py",
   "mimetype": "text/x-python",
   "name": "python",
   "nbconvert_exporter": "python",
   "pygments_lexer": "ipython3",
   "version": "3.6.7"
  }
 },
 "nbformat": 4,
 "nbformat_minor": 4
}
