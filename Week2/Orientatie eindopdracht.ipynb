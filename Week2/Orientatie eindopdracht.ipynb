{
 "cells": [
  {
   "cell_type": "markdown",
   "metadata": {},
   "source": [
    "# Oriëntatie eindopdracht dataverzameling\n",
    "*week 2*\n",
    "\n",
    "## Schatten van zetelverdeling voor Tweede Kamer.\n",
    "\n",
    "*Deze opdracht is tevens de eindopdracht van deze week. Probeer de opdracht globaal uit te voeren voordat je begint aan de lesstof. Werk de opdracht verder uit nadat je de lesstof hebt doorgenomen.\n",
    "Je hoeft deze opdracht nu niet in te leveren.*"
   ]
  },
  {
   "cell_type": "markdown",
   "metadata": {},
   "source": [
    "Volgens de Nederlandse Kieswet vinden Tweede Kamerverkiezingen om de vier jaar plaats. In aanloop van de eerstvolgende verkiezingen wordt gevraagd een schatting te maken van de zetelverdeling over de verschillende politieke partijen.\n",
    "\n",
    "Bedenk hiervoor **twee onderzoeksontwerpen**, een dure variant en een goedkope. Beschrijf hierbij ten minste de volgende aspecten:\n",
    "\n",
    "   * Wat is de doelpopulatie (zeer uitgebreide groep mensen waarop het onderzoek zich richt)?\n",
    "   * Wordt gebruik gemaakt van steekproef, register, website, sociale media, andere databron, of combinatie hiervan?\n",
    "   * Als een steekproef wordt gebruikt: waar wordt die uit getrokken, hoe wordt getrokken en hoe groot is de steekproef?\n",
    "   * Als databronnen worden gebruikt: welke zijn dat zijn, en wat kan er uit worden gehaald om de onderzoeksvraag te beantwoorden?\n",
    "   * Als een vragenlijst wordt gebruikt, welke vragen moeten er minimaal in staan?\n",
    "   * Via welke methoden zijn of worden de data verzameld? Denk hierbij aan papier, e-mail, internet, telefonisch, bij de mensen thuis, bij het station, op de markt, of anderszins.\n",
    "   * Hoe goed wordt de doelpopulatie weerspiegeld door de verzamelde data?\n",
    "   * Hoe wordt de zetelverdeling geschat met de verzamelde data?\n",
    "   * Hoe nauwkeurig is deze schatting?\n",
    "   * Hoe snel kan het onderzoek worden herhaald om de schatting te actualiseren?\n",
    "   * Hoeveel tijd kosten de voorbereiding, uitvoering en analyse van het onderzoek?\n",
    "Welke   * privacy issues zijn er bij het gekozen onderzoeksontwerp?\n",
    "\n",
    "Denk aan een enquête onder een steekproef uit de stemgerechtigde bevolking, een opiniepeiling, of een voorspelmodel met gebruik van big data."
   ]
  },
  {
   "cell_type": "markdown",
   "metadata": {},
   "source": [
    "## Bronnen & achtergronden\n",
    "\n",
    "1. Aantal kiesgerechtigden - https://www.cbs.nl/nl-nl/nieuws/2017/07/bijna-13-miljoen-kiesgerechtigden-op-15-maart\n",
    "2. grondbegrippen statistiek III - https://www.ntvg.nl/artikelen/enkele-grondbegrippen-uit-de-statistiek-iii-aselecte-steekproeven-en-aselecte-toewijzing\n",
    "3. grondbegrippen statistiek IV - https://www.ntvg.nl/artikelen/enkele-grondbegrippen-uit-de-statistiek-iv-doelpopulaties-en-onderzoekpopulaties-bij/volledig\n",
    "4. grondbegrippen statistiek V - https://www.ntvg.nl/artikelen/enkele-grondbegrippen-uit-de-statistiek-v-aselecte-steekproeven-en-als-aselect-te\n",
    "5. Omvang van een steekproef - https://www.allesovermarktonderzoek.nl/steekproef-algemeen/steekproef-berekenen/\n",
    "6. Steekproefcalculator - https://www.allesovermarktonderzoek.nl/steekproef-algemeen/steekproefcalculator/#Depopulairstesteekproefcalculatorvannederland / http://www.raosoft.com/samplesize.html\n",
    "7. Wat kost een onderzoek - http://www.inzichtimpact.nl/wat-kost-marktonderzoek.html\n",
    "8. Valkuilen in marktonderzoek - https://moa04.artoo.nl/clou-moaweb-images/images/bestanden/pdf/Studenteninformatie/WESTENDORP_OLIVIER_Valkuilen_in_marktonderzoek_2014.pdf"
   ]
  },
  {
   "cell_type": "markdown",
   "metadata": {},
   "source": [
    "## Goedkope variant"
   ]
  },
  {
   "cell_type": "markdown",
   "metadata": {},
   "source": [
    "Eerst de dure variant doorgedacht. De goedkope variant, zo schat ik in, zal er een op basis van data zijn. De kosten van de dure variant zitten niet in de laatste plaats in de uren die gestoken moeten worden in het maken van de selectie en het uitvoeren van de enquete. Wordt er gebruik gemaakt van beschikbare data, dan kan met een eenvoudige vraag het resultaat geautomatiseerd worden."
   ]
  },
  {
   "cell_type": "markdown",
   "metadata": {},
   "source": [
    "## Dure variant"
   ]
  },
  {
   "cell_type": "markdown",
   "metadata": {},
   "source": [
    "De doelpopulatie (N) is de kiesgerechtigde bevolking (bijna 13 miljoen volgens CBS in 2017; (1)).\n",
    "Het is niet reeel om te veronderstellen dat het onderzoek zich letterlijk op de gehele populatie zal richten. Er zal dus een onderzoekpopulatie gedefinieerd moeten worden waaruit een aselecte steekproef (n) getrokken moet worden.\n",
    "De omvang van de aselecte steekproef (5) is afhankelijk van de omvang van de populatie (N = 13 miljoen), de verwachte betrouwbaarheid (95%) en de verwachte nauwkeurigheid van het resultaat (afwijking 5%) van het onderzoek. De steekproef omvang zou dan 384 moeten zijn (6).\n"
   ]
  },
  {
   "cell_type": "markdown",
   "metadata": {},
   "source": [
    "Om tot een aselecte steekproef te komen zou de gehele populatie bereikbaar moeten zijn. De enquete zou telefonisch of online uitgevoerd kunnen worden. Om het onderzoek op te kunnen zetten is dan wel de contact informatie nodig. Herkomst van deze data zou een onderzoekspanel kunnen zijn. Maar in hoeverre heeft dit invloed op de resultaten? Hoe aselect is dit dan nog? Anderzijds enquetes bij het station is ook al een selectie en niet echt aselect...\n"
   ]
  },
  {
   "cell_type": "markdown",
   "metadata": {},
   "source": [
    "Als we uit het onderzoek een conclusie willen trekken over de zetelverdeling na de verkiezingen, zullen we minimaal moeten weten wat de respondenten stemmen. En misschien dat dit voldoende zou zijn (???) als het een zuivere aselecte steekproef is. Maar als we willen gaan toetsen hoe een bepaalde groep gaat stemmen zullen we meer informatie moeten hebben. bijvoorbeeld demografische kenmerken zoals geslacht, opleiding, inkomen, regio."
   ]
  },
  {
   "cell_type": "markdown",
   "metadata": {},
   "source": [
    "Mag je om het onderzoek te actualiseren eigenlijk dezelfde onderzoekspopulatie gebruiken? Of moet je daarvoor een nieuwe aselecte steekproef doen? Als je dezelfde groep mag benaderen, zou een actualisering vrij snel uitgevoerd kunnen worden. Zo niet dan begint het hele circus opnieuw vanaf het moment van de selectie van de steekproef. Bij het volledig annoniem benaderen zou privacy geen grote rol spelen. Maar bij het onderzoeken van meer dan enkel het antwoord op de vraag, welke partij stemt u op, wordt dit een andere zaak. Als de hiervoor genoemde demografische kenmerken ook worden gevraagd en als er sprake is van een contact gegevens van de respondent bijvoorbeeld."
   ]
  },
  {
   "cell_type": "markdown",
   "metadata": {},
   "source": [
    "Een beetje marktonderzoek met omvang start al snel met een bedrag van 4.000 a 5.000 euro"
   ]
  },
  {
   "cell_type": "code",
   "execution_count": null,
   "metadata": {},
   "outputs": [],
   "source": []
  }
 ],
 "metadata": {
  "kernelspec": {
   "display_name": "Python",
   "language": "python",
   "name": "conda-env-python-py"
  },
  "language_info": {
   "codemirror_mode": {
    "name": "ipython",
    "version": 3
   },
   "file_extension": ".py",
   "mimetype": "text/x-python",
   "name": "python",
   "nbconvert_exporter": "python",
   "pygments_lexer": "ipython3",
   "version": "3.6.7"
  }
 },
 "nbformat": 4,
 "nbformat_minor": 4
}
