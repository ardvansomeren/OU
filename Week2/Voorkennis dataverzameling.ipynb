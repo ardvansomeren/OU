{
 "cells": [
  {
   "cell_type": "markdown",
   "metadata": {},
   "source": [
    "# Voorkennisopdracht dataverzameling\n",
    "\n",
    "*Telt niet mee in eindoordeel*\n",
    "## Schatten van populatieomvang met steekproeven.\n",
    "\n",
    " \n",
    "\n",
    "In de koffiecorner van een chocoladefabriek staat een grote vaas vol met paaseieren. Er wordt een prijsvraag uitgeschreven: raad hoeveel paaseieren in de vaas zitten. Wie het dichtst bij het werkelijke aantal zit mag de vaas met eieren mee naar huis nemen.\n",
    "\n",
    "Je mag niet alle eieren tellen, maar je mag wel enkele steekproeven uit de vaas trekken en tellen hoeveel eieren daarin zitten. Daarbij moet de steekproefomvang wel vele malen kleiner zijn dan het totaal aantal eieren in de vaas. Als een steekproef is getrokken moeten de eieren daarna weer terug worden gelegd in de vaas. Schudden met de vaas mag  ook.\n",
    "\n",
    "Hoe kan met behulp van het trekken van steekproeven het totaal aantal eieren in de vaas worden geschat?"
   ]
  },
  {
   "cell_type": "markdown",
   "metadata": {},
   "source": [
    "## Mogelijke aanpak\n",
    "\n",
    "   1. Neem de eerste 'laag' paaseieren uit de vaas\n",
    "   2. Tel deze eieren en plaats ze terug in de vaas\n",
    "   3. Tel het aantal lagen in de vaas\n",
    "   4. Vermenigvuldig voor een schatting van het totaal\n",
    "   5. Herhalen?"
   ]
  },
  {
   "cell_type": "code",
   "execution_count": null,
   "metadata": {},
   "outputs": [],
   "source": []
  }
 ],
 "metadata": {
  "kernelspec": {
   "display_name": "Python",
   "language": "python",
   "name": "conda-env-python-py"
  },
  "language_info": {
   "codemirror_mode": {
    "name": "ipython",
    "version": 3
   },
   "file_extension": ".py",
   "mimetype": "text/x-python",
   "name": "python",
   "nbconvert_exporter": "python",
   "pygments_lexer": "ipython3",
   "version": "3.6.7"
  }
 },
 "nbformat": 4,
 "nbformat_minor": 4
}
