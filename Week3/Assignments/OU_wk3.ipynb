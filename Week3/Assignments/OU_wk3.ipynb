{
 "cells": [
  {
   "cell_type": "markdown",
   "metadata": {},
   "source": [
    "# BIG data and Statistics"
   ]
  },
  {
   "cell_type": "markdown",
   "metadata": {},
   "source": [
    "Management, Science & Technology - IC3110 Big Data en statistiek\n",
    "https://youlearn.ou.nl/web/ic3110-statistiek-en-big-data/dashboard"
   ]
  },
  {
   "cell_type": "markdown",
   "metadata": {},
   "source": [
    "## Eindopdracht visualisaties\n",
    "\n",
    "Beoordeel de volgende visualisaties op kwaliteit. Wat is goed of slecht aan de visualisatie en wat zou eventueel verbeterd kunnen worden?\n",
    "\n",
    "### Visualisatie 1\n",
    "\n",
    "![alt text](visualisatie1.png \"Data visualisatie 1\")\n",
    "\n",
    "woonplaats cbs medewerkers"
   ]
  },
  {
   "cell_type": "markdown",
   "metadata": {},
   "source": [
    "#### Beoordeling van de visualisatie\n",
    "\n",
    "De data wordt geplot op een kaart wat duidelijk weergeeft waar medewerkers van CBS wonen. De omvang van de cirkels geeft de verhouding van veel of weinig CBS medewerkers weer. De Visualisatie laat niet zien hoeveel medewerkers de cirkels vertegenwoordigen en ook zijn er geen woonplaatsten geplot in kaart.\n",
    "\n",
    "Alle woonplaatsen zou teveel informatie zijn. Maar bijvoorbeeld Amsterdam, Den Haag en Maastricht, Venlo zou al voldoende zijn.\n",
    "Voor verduidelijken van het aantal medewerkers zou een legenda met overzicht van een grote cirkel veel en een kleinere minder al veel informatie verschaffen."
   ]
  },
  {
   "cell_type": "markdown",
   "metadata": {},
   "source": [
    "### Visualisatie 2\n",
    "\n",
    "![alt text](visualisatie2.png \"Data visualisatie 2\")\n",
    "\n",
    "Dagelijkse verkeersonmgevallen 2016"
   ]
  },
  {
   "cell_type": "markdown",
   "metadata": {},
   "source": [
    "#### Beoordeling van de visualisatie\n",
    "\n",
    "De schalen van de assen starten niet op 0.\n",
    "De Y-as loopt van 100 naar 0 er er is geen eenheid opgenomen. Gaat het om aantal doden? Percentage? Ten opzicht van wat? Of gaat het om het aantal km/h?\n",
    "De X-as verdeling loopt van 1000 naar 2010, ook hier geen eenheid. Neem aan geen jaartallen want de titel geeft aan dat het gaat om 2016 en in het jaar 1000 hadden we enkel een karrenspoor. Geen idee wat deze as moet weergeven. Bovendien zijn de waarden niet gelijk verdeeld, de eerste 'stap' omvat 990'x', de vervolgstappen zijn kleiner.\n",
    "\n",
    "Geen idee wat hier weergegeven wordt."
   ]
  },
  {
   "cell_type": "markdown",
   "metadata": {},
   "source": [
    "### Visualisatie 3\n",
    "\n",
    "![alt text](visualisatie3.png \"Data visualisatie 3\")\n",
    "\n",
    "Gebruik alcohol en drugs studenten 2018"
   ]
  },
  {
   "cell_type": "markdown",
   "metadata": {},
   "source": [
    "#### Beoordeling van de visualisatie\n",
    "\n",
    "Los van elkaar laten de bars de verhouding tussen man en vrouw wel zien. Maar de schaling over de verschillende categorieen verschilt. Zo lijkt het net of het dagelijks gebruik bijvoorbeeld veel hoger is dan het zich in werkelijkheid verhoudt met1-9 keer. De visualisatie laat ook niet zien hoe het gebruik tussen drugs en alcohol zich verhoudt."
   ]
  },
  {
   "cell_type": "markdown",
   "metadata": {},
   "source": [
    "### Visualisatie 4\n",
    "\n",
    "![alt text](visualisatie4.png \"Data visualisatie 4\")\n",
    "\n",
    "Aantal werkloze jongeren"
   ]
  },
  {
   "cell_type": "markdown",
   "metadata": {},
   "source": [
    "#### Beoordeling van de visualisatie\n",
    "\n",
    "De grafiek laat een toename zien in de tijd. De schoolverdeling op de Y-as ontbreekt en dat maakt het niet duidelijker. De waarden van de labels en de weergave van de 'mannetjes' zijn niet in verhouding. Als vier mannetjes 16 a 17 duizend is dan zijn 30 mannetjes er nooit 20 duizend. Het moet een combinatie zijn tussen een bar en een lijn en de Y-as verdeling klopt niet.\n",
    "De weergave van de jaartallen op de x-as van steeds twee jaar maken ook dat je niet in 1 oogopslag ziet hoe de trend zich ontwikkeld."
   ]
  },
  {
   "cell_type": "code",
   "execution_count": null,
   "metadata": {},
   "outputs": [],
   "source": []
  }
 ],
 "metadata": {
  "kernelspec": {
   "display_name": "Python",
   "language": "python",
   "name": "conda-env-python-py"
  },
  "language_info": {
   "codemirror_mode": {
    "name": "ipython",
    "version": 3
   },
   "file_extension": ".py",
   "mimetype": "text/x-python",
   "name": "python",
   "nbconvert_exporter": "python",
   "pygments_lexer": "ipython3",
   "version": "3.6.7"
  }
 },
 "nbformat": 4,
 "nbformat_minor": 4
}
