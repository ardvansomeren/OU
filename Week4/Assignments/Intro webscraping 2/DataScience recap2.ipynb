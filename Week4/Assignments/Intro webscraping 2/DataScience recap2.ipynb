{
 "cells": [
  {
   "cell_type": "markdown",
   "metadata": {},
   "source": [
    "# Data Science Recap"
   ]
  },
  {
   "cell_type": "markdown",
   "metadata": {},
   "source": [
    "Example Coursera DataScience course: labs/DP0701EN/Webscraping postal codes of Canada-Part 1 2 and 3.ipynb\n",
    "\n",
    "  * https://towardsdatascience.com/introduction-to-web-scraping-with-beautifulsoup-e87a06c2b857\n",
    "  * https://towardsdatascience.com/in-10-minutes-web-scraping-with-beautiful-soup-and-selenium-for-data-professionals-8de169d36319\n",
    "\n",
    "  * https://www.dataquest.io/blog/web-scraping-beautifulsoup/\n",
    "  * https://www.datacamp.com/community/tutorials/web-scraping-python-nlp\n",
    "  * https://towardsdatascience.com/web-scraping-craigslist-a-complete-tutorial-c41cea4f4981\n",
    "  * https://www.datacamp.com/community/tutorials/web-scraping-using-python\n"
   ]
  },
  {
   "cell_type": "markdown",
   "metadata": {},
   "source": [
    "## Introduction to Web Scraping with BeautifulSoup\n",
    "*How to use web scraping to get information from a Wikipedia page*\n",
    "\n",
    "https://towardsdatascience.com/introduction-to-web-scraping-with-beautifulsoup-e87a06c2b857"
   ]
  },
  {
   "cell_type": "markdown",
   "metadata": {},
   "source": [
    "  * **Request**\n",
    "  * **Beautiful Soup**\n",
    "  * Scrapy\n",
    "  * **Selenium**"
   ]
  },
  {
   "cell_type": "markdown",
   "metadata": {},
   "source": [
    "### Install BeautifulSoup4 and Requests Python package"
   ]
  },
  {
   "cell_type": "code",
   "execution_count": 6,
   "metadata": {},
   "outputs": [
    {
     "name": "stdout",
     "output_type": "stream",
     "text": [
      "Requirement already satisfied: BeautifulSoup4 in /home/jupyterlab/conda/envs/python/lib/python3.6/site-packages (4.8.0)\n",
      "Requirement already satisfied: requests in /home/jupyterlab/conda/envs/python/lib/python3.6/site-packages (2.22.0)\n",
      "Requirement already satisfied: soupsieve>=1.2 in /home/jupyterlab/conda/envs/python/lib/python3.6/site-packages (from BeautifulSoup4) (1.9.3)\n",
      "Requirement already satisfied: urllib3!=1.25.0,!=1.25.1,<1.26,>=1.21.1 in /home/jupyterlab/conda/envs/python/lib/python3.6/site-packages (from requests) (1.24.3)\n",
      "Requirement already satisfied: chardet<3.1.0,>=3.0.2 in /home/jupyterlab/conda/envs/python/lib/python3.6/site-packages (from requests) (3.0.4)\n",
      "Requirement already satisfied: idna<2.9,>=2.5 in /home/jupyterlab/conda/envs/python/lib/python3.6/site-packages (from requests) (2.8)\n",
      "Requirement already satisfied: certifi>=2017.4.17 in /home/jupyterlab/conda/envs/python/lib/python3.6/site-packages (from requests) (2019.6.16)\n",
      "Note: you may need to restart the kernel to use updated packages.\n"
     ]
    }
   ],
   "source": [
    "pip install BeautifulSoup4 requests"
   ]
  },
  {
   "cell_type": "markdown",
   "metadata": {},
   "source": [
    "### Import Library's and Parse HTML"
   ]
  },
  {
   "cell_type": "code",
   "execution_count": 18,
   "metadata": {},
   "outputs": [],
   "source": [
    "# importing libraries\n",
    "from bs4 import BeautifulSoup\n",
    "\n",
    "# https://www.pythonforbeginners.com/requests/using-requests-in-python\n",
    "import requests\n",
    "\n",
    "import pandas as pd"
   ]
  },
  {
   "cell_type": "markdown",
   "metadata": {},
   "source": [
    "### BeautifulSoup\n",
    "\n",
    "https://en.wikipedia.org/wiki/List_of_national_capitals?source=post_page-----8de169d36319----------------------\n",
    "\n",
    "\n",
    "<img src = \"https://www.mapsofindia.com/worldmap/world-map-with-countries-and-capitals.jpg\" width = 400 align = 'left'> <img src = \"wiki devtools capitals.png\" width = 400 align = 'right'> "
   ]
  },
  {
   "cell_type": "markdown",
   "metadata": {},
   "source": [
    "### Prepare and pase webpage object into Beautifulsoup"
   ]
  },
  {
   "cell_type": "code",
   "execution_count": 4,
   "metadata": {},
   "outputs": [
    {
     "name": "stdout",
     "output_type": "stream",
     "text": [
      "Connection to  https://en.wikipedia.org/wiki/List_of_national_capitals succesfull\n"
     ]
    }
   ],
   "source": [
    "headers = {'User-Agent': 'Mozilla/5.0 (Windows NT 6.3; Win64; x64) AppleWebKit/537.36 (KHTML, like Gecko) Chrome/54.0.2840.71 Safari/537.36'}\n",
    "\n",
    "#define url to scrape\n",
    "url = \"https://en.wikipedia.org/wiki/List_of_national_capitals\"\n",
    "\n",
    "#connect to website\n",
    "try:\n",
    "    r = requests.get(url, headers=headers)\n",
    "    print(\"Connection to \", url, \"succesfull\")\n",
    "except:\n",
    "    print(\"An error occured.\")"
   ]
  },
  {
   "cell_type": "code",
   "execution_count": 14,
   "metadata": {},
   "outputs": [],
   "source": [
    "soup = BeautifulSoup(r.content, \"html.parser\")\n",
    "table = soup.find_all('table')[1]\n",
    "rows = table.find_all('tr')\n",
    "row_list = list()"
   ]
  },
  {
   "cell_type": "code",
   "execution_count": 15,
   "metadata": {},
   "outputs": [
    {
     "name": "stdout",
     "output_type": "stream",
     "text": [
      "[]\n"
     ]
    }
   ],
   "source": [
    "#print(soup)\n",
    "#print(table.prettify())\n",
    "#print(rows)\n",
    "print(row_list)"
   ]
  },
  {
   "cell_type": "code",
   "execution_count": 16,
   "metadata": {
    "collapsed": true,
    "jupyter": {
     "outputs_hidden": true
    }
   },
   "outputs": [
    {
     "name": "stdout",
     "output_type": "stream",
     "text": [
      "[[], ['Abu Dhabi', ' United Arab Emirates', '\\n'], ['Abuja', ' Nigeria', 'Lagos was the capital from 1914 to 1991.\\n'], ['Accra', ' Ghana', '\\n'], ['Adamstown', ' Pitcairn Islands', 'British Overseas Territory.\\n'], ['Addis Ababa', ' Ethiopia', '\\n'], ['Algiers', ' Algeria', '\\n'], ['Alofi', ' Niue', 'Self-governing in free association with New Zealand.\\n'], ['Amman', ' Jordan', '\\n'], ['Amsterdam (official)The Hague (de facto)', ' Netherlands', 'The Dutch constitution refers to Amsterdam as the \"capital\". The Dutch government is located in The Hague, which also hosts the monarch, government ministries, judiciary and diplomatic missions. See Capital of the Netherlands.\\n'], ['Andorra la Vella', ' Andorra', '\\n'], ['Ankara', ' Turkey', '\\n'], ['Antananarivo', ' Madagascar', '\\n'], ['Apia', ' Samoa', '\\n'], ['Ashgabat', ' Turkmenistan', '\\n'], ['Asmara', ' Eritrea', '\\n'], ['Asunción', ' Paraguay', '\\n'], ['Athens', ' Greece', '\\n'], ['Avarua', ' Cook Islands', 'Self-governing in free association with New Zealand.\\n'], ['Baghdad', ' Iraq', '\\n'], ['Baku', ' Azerbaijan', '\\n'], ['Bamako', ' Mali', '\\n'], ['Bandar Seri Begawan', ' Brunei', '\\n'], ['Bangkok', ' Thailand', '\\n'], ['Bangui', ' Central African Republic', '\\n'], ['Banjul', ' Gambia', '\\n'], ['Basseterre', ' Saint Kitts and Nevis', '\\n'], ['Beijing', ' China', 'See also: List of historical capitals of China.\\n'], ['Beirut', ' Lebanon', '\\n'], ['Belgrade', ' Serbia', '\\n'], ['Belmopan', ' Belize', '\\n'], ['Berlin', ' Germany', '\\n'], ['Bern', ' Switzerland', 'De facto capital.\\n'], ['Bishkek', ' Kyrgyzstan', '\\n'], ['Bissau', ' Guinea-Bissau', '\\n'], ['Bogotá', ' Colombia', '\\n'], ['Brasília', ' Brazil', '\\n'], ['Bratislava', ' Slovakia', '\\n'], ['Brazzaville', ' Republic of the Congo', '\\n'], ['Bridgetown', ' Barbados', '\\n'], ['Brussels', ' Belgium', 'Also the de facto capital of the \\xa0European Union.\\n'], ['Bucharest', ' Romania', '\\n'], ['Budapest', ' Hungary', '\\n'], ['Buenos Aires', ' Argentina', '\\n'], ['Cairo', ' Egypt', '\\n'], ['Canberra', ' Australia', 'Planned city built to overcome the rivalry between Melbourne and Sydney, which were both put forward as potential capitals for the nation in the Australasia Federation Conventions of the 1890s. Section 125 of the Constitution gives basic details about the location of the capital, size of the encompassing territory and so forth, while the Seat of Government Act 1908 specified its precise location.\\n'], ['Caracas', ' Venezuela', '\\n'], ['Castries', ' Saint Lucia', '\\n'], ['Charlotte Amalie', ' United States Virgin Islands', 'Territory of the U.S.\\n'], ['Chișinău', ' Moldova', '\\n'], ['Cockburn Town', ' Turks and Caicos Islands', 'British Overseas Territory.\\n'], ['Conakry', ' Guinea', '\\n'], ['Copenhagen', ' Denmark', '\\n'], ['Dakar', ' Senegal', '\\n'], ['Damascus', ' Syria', '\\n'], ['Dhaka', ' Bangladesh', '\\n'], ['Dili', ' East Timor', '\\n'], ['Djibouti', ' Djibouti', '\\n'], ['Dodoma (official, legislative)Dar es Salaam (de facto, judicial)', ' Tanzania', 'Dar es Salaam, the former capital and largest city continues to serve as the de facto seat of government hosting the presidency, government ministries, judiciary and diplomatic missions.\\n'], ['Doha', ' Qatar', '\\n'], ['Douglas', ' Isle of Man', 'British Crown Dependency.\\n'], ['Dublin', ' Ireland', '\\n'], ['Dushanbe', ' Tajikistan', '\\n'], ['Edinburgh of the Seven Seas', ' Tristan da Cunha', 'Part of the British Overseas Territory of Saint Helena, Ascension and Tristan da Cunha.\\n'], ['El Aioun (declared)Tifariti (de facto)', ' Sahrawi Arab Democratic Republic\\xa0[c]', 'The Sahrawi Republic, recognised by 82 states, claims the mostly Moroccan controlled Western Sahara. Moroccan controlled territory includes El Aaiún, and Morocco claims all Sahrawi controlled territory. Tifariti is now the temporary capital (instead of Bir Lehlou earlier) of the SADR. Some government and military structures reside in exile in Tindouf, Algeria.[1] See Politics of the Sahrawi Arab Democratic Republic.\\n'], ['Episkopi Cantonment', ' Akrotiri and Dhekelia', 'British Overseas Territory.\\n'], ['Flying Fish Cove', ' Christmas Island', 'External territory of Australia.\\n'], ['Freetown', ' Sierra Leone', '\\n'], ['Funafuti', ' Tuvalu', '\\n'], ['Gaborone', ' Botswana', '\\n'], ['George Town', ' Cayman Islands', 'British Overseas Territory.\\n'], ['Georgetown', ' Ascension Island', 'Part of the British Overseas Territory of Saint Helena, Ascension and Tristan da Cunha.\\n'], ['Georgetown', ' Guyana', '\\n'], ['Gibraltar', ' Gibraltar', 'British Overseas Territory.\\n'], ['Gitega', ' Burundi', 'Bujumbura was the capital from 1962 to 2018.\\n'], ['Guatemala City', ' Guatemala', '\\n'], ['Gustavia', ' Saint Barthélemy', 'Overseas collectivity of France.\\n'], ['Hagåtña', ' Guam', 'Territory of the United States.\\n'], ['Hamilton', ' Bermuda', 'British Overseas Territory.\\n'], ['Hanga Roa', ' Easter Island', 'Special territory of Chile.\\n'], ['Hanoi', ' Vietnam', '\\n'], ['Harare', ' Zimbabwe', '\\n'], ['Hargeisa', ' Somaliland', 'Unrecognized and self-declared state, de jure part of Somalia.\\n'], ['Havana', ' Cuba', '\\n'], ['Helsinki', ' Finland', '\\n'], ['Honiara', ' Solomon Islands', '\\n'], ['Islamabad', ' Pakistan', 'Karachi was selected as the first capital of Pakistan and served as such until the capital was shifted to Rawalpindi in 1958. Rawalpindi served as an interim capital for almost a decade until the construction in Islamabad was complete.\\n'], ['Jakarta', ' Indonesia', '\\n'], ['Jamestown', ' Saint Helena', 'Part of the British Overseas Territory of Saint Helena, Ascension and Tristan da Cunha.\\n'], ['Jarabulus', ' Syrian opposition', 'See Syrian Civil War.\\n'], ['Jerusalem (disputed)', ' Israel (de facto) Palestine (claimed)', 'The Jerusalem Law states that \"Jerusalem, complete and united, is the capital of Israel\" and the city serves as the seat of the Israeli government and its institutions. United Nations Security Council Resolution 478 declared the Jerusalem Law \"null and void\" and called on member states to withdraw their diplomatic missions from Jerusalem. Most countries currently maintain their embassies in and around Tel Aviv. The United States recognized Jerusalem as the capital and moved its embassy there in May 2018. [2] Many countries officially adhere to the proposal that Jerusalem have international status, as called for in the 1947 Partition Plan.[3] The State of Palestine, a de jure state, claims East Jerusalem as its capital. See Status of Jerusalem and Positions on Jerusalem.\\n'], ['Juba', ' South Sudan', '\\n'], ['Kabul', ' Afghanistan', '\\n'], ['Kampala', ' Uganda', '\\n'], ['Kathmandu', ' Nepal', '\\n'], ['Khartoum', ' Sudan', '\\n'], ['Kiev', ' Ukraine', '\\n'], ['Kigali', ' Rwanda', '\\n'], ['King Edward Point', ' South Georgia and the South Sandwich Islands', 'British Overseas Territory.\\n'], ['Kingston', ' Jamaica', '\\n'], ['Kingston', ' Norfolk Island', 'External territory of Australia.\\n'], ['Kingstown', ' Saint Vincent and the Grenadines', '\\n'], ['Kinshasa', ' Democratic Republic of the Congo', '\\n'], ['Kuala Lumpur (official, legislative and royal)Putrajaya (administrative and judicial)', ' Malaysia', '\\n'], ['Kuwait City', ' Kuwait', '\\n'], ['Libreville', ' Gabon', '\\n'], ['Lilongwe', ' Malawi', '\\n'], ['Lima', ' Peru', 'Cusco is declared as the \"Historical Capital\" (Spanish: Capital Historica), a merely symbolic statement, by Article 49 of the Peruvian Constitution.\\n'], ['Lisbon', ' Portugal', '\\n'], ['Ljubljana', ' Slovenia', '\\n'], ['Lomé', ' Togo', '\\n'], ['London', ' United Kingdom', 'Prior to the Acts of Union in 1707, London was the capital of England only; Edinburgh was the capital of the Kingdom of Scotland.\\n'], ['Luanda', ' Angola', '\\n'], ['Lusaka', ' Zambia', '\\n'], ['Luxembourg', ' Luxembourg', '\\n'], ['Madrid', ' Spain', '\\n'], ['Majuro', ' Marshall Islands', 'Self-governing in free association with United States.\\n'], ['Malabo', ' Equatorial Guinea', '\\n'], ['Malé', ' Maldives', '\\n'], ['Managua', ' Nicaragua', '\\n'], ['Manama', ' Bahrain', '\\n'], ['Manila', ' Philippines', '\\n'], ['Maputo', ' Mozambique', '\\n'], ['Marigot', ' Saint Martin', 'Overseas collectivity of France.\\n'], ['Maseru', ' Lesotho', '\\n'], ['Mata-Utu', ' Wallis and Futuna', 'Overseas collectivity of France.\\n'], ['Mbabane (administrative)Lobamba (royal and legislative)', ' Eswatini (Swaziland)', '\\n'], ['Mexico City', ' Mexico', '\\n'], ['Minsk', ' Belarus', '\\n'], ['Mogadishu', ' Somalia', '\\n'], ['Monaco', ' Monaco', 'City-state.\\n'], ['Monrovia', ' Liberia', '\\n'], ['Montevideo', ' Uruguay', '\\n'], ['Moroni', ' Comoros', '\\n'], ['Moscow', ' Russia', '\\n'], ['Muscat', ' Oman', '\\n'], ['Nairobi', ' Kenya', '\\n'], ['Nassau', ' Bahamas', '\\n'], ['Naypyidaw', ' Myanmar', '\\n'], [\"N'Djamena\", ' Chad', '\\n'], ['New Delhi', ' India', 'Kolkata was the capital of India until 1911 during the British Raj.\\n'], ['Ngerulmud', ' Palau', 'Self-governing in free association with United States.\\n'], ['Niamey', ' Niger', '\\n'], ['Nicosia', ' Cyprus', '\\n'], ['Nicosia', ' Northern Cyprus', 'De facto independent state that is recognised only by Turkey. Northern Cyprus is claimed in whole by the Republic of Cyprus.[4]\\n'], ['Nouakchott', ' Mauritania', '\\n'], ['Nouméa', ' New Caledonia', 'Sui generis collectivity of France.\\n'], ['Nukuʻalofa', ' Tonga', '\\n'], ['Nur-Sultan', ' Kazakhstan', 'Formerly known as Astana; the name was changed on 20 March 2019.\\n'], ['Nuuk', ' Greenland', 'Self-governing country within the Kingdom of Denmark.\\n'], ['Oranjestad', ' Aruba', 'Self-governing country within the Kingdom of the Netherlands.\\n'], ['Oslo', ' Norway', '\\n'], ['Ottawa', ' Canada', '\\n'], ['Ouagadougou', ' Burkina Faso', '\\n'], ['Pago Pago', ' American Samoa', 'Territory of the United States.\\n'], ['Palikir', ' Federated States of Micronesia', 'Self-governing in free association with United States.\\n'], ['Panama City', ' Panama', '\\n'], ['Papeete', ' French Polynesia', 'Overseas collectivity of France.\\n'], ['Paramaribo', ' Suriname', '\\n'], ['Paris', ' France', '\\n'], ['Philipsburg', ' Sint Maarten', 'Self-governing country within the Kingdom of the Netherlands.\\n'], ['Phnom Penh', ' Cambodia', '\\n'], ['Plymouth (official)Brades Estate (de facto)', ' Montserrat', 'British Overseas Territory. Plymouth was abandoned after the eruption of the Soufriere Hills volcano in 1997. Government offices since then have been moved to Brades Estate, which is in the northwestern part of Montserrat.\\n'], ['Podgorica (official)Cetinje (Old Royal Capital, present seat of the President)', ' Montenegro', '\\n'], ['Port Louis', ' Mauritius', '\\n'], ['Port Moresby', ' Papua New Guinea', '\\n'], ['Port Vila', ' Vanuatu', '\\n'], ['Port-au-Prince', ' Haiti', '\\n'], ['Port of Spain', ' Trinidad and Tobago', '\\n'], ['Porto-Novo (official)Cotonou (de facto)', ' Benin', '\\n'], ['Prague', ' Czech Republic', '\\n'], ['Praia', ' Cape Verde', '\\n'], ['Pretoria (executive)Bloemfontein (judicial)Cape Town (legislative)', ' South Africa', '\\n'], ['Pristina', ' Kosovo[g]', 'De facto independent state that is recognised by 112 UN member states and by Taiwan. Claimed in whole by the Republic of Serbia as part of its Autonomous Province of Kosovo and Metohija. Republic of Kosovo has de facto control over most of the territory, with limited control in North Kosovo.\\n'], ['Pyongyang', ' North Korea', '\\n'], ['Quito', ' Ecuador', 'Highest official capital (2,850 m).[5]\\n'], ['Rabat', ' Morocco', '\\n'], ['Ramallah', ' Palestine', 'De facto capital.\\n'], ['Reykjavík', ' Iceland', '\\n'], ['Riga', ' Latvia', '\\n'], ['Riyadh', ' Saudi Arabia', '\\n'], ['Road Town', ' British Virgin Islands', 'British Overseas Territory.\\n'], ['Rome', ' Italy', '\\n'], ['Roseau', ' Dominica', '\\n'], ['Saipan', ' Northern Mariana Islands', 'Territory of the United States.\\n'], ['San José', ' Costa Rica', '\\n'], ['San Juan', ' Puerto Rico', 'Territory of the United States.\\n'], ['San Marino', ' San Marino', '\\n'], ['San Salvador', ' El Salvador', '\\n'], [\"Sana'a (de jure)Aden (de facto, temporary)\", ' Yemen', \"Sana'a has been occupied by Houthis rebels since February 2015. See also: Yemeni Civil War (2015–present).\\n\"], ['Santiago (official)Valparaíso (legislative)', ' Chile', 'The National Congress of Chile is located in Valparaíso.\\n'], ['Santo Domingo', ' Dominican Republic', '\\n'], ['São Tomé', ' São Tomé and Príncipe', '\\n'], ['Sarajevo', ' Bosnia and Herzegovina', '\\n'], ['Seoul', ' South Korea', '\\n'], ['Singapore', ' Singapore', 'City-state.\\n'], ['Skopje', ' North Macedonia', '\\n'], ['Sofia', ' Bulgaria', '\\n'], ['Sri Jayawardenepura Kotte (official)Colombo (executive, judicial)', ' Sri Lanka', 'Also known as \"Kotte\". Until the 1980s, the capital was Colombo, where many important governmental institutions still remain and which is still designated as the commercial capital of Sri Lanka.\\n'], [\"St. George's\", ' Grenada', '\\n'], ['St. Helier', ' Jersey', 'British Crown Dependency.\\n'], [\"St. John's\", ' Antigua and Barbuda', '\\n'], ['St. Peter Port', ' Guernsey', 'British Crown Dependency.\\n'], ['St. Pierre', ' Saint Pierre and Miquelon', 'Overseas collectivity of France.\\n'], ['Stanley', ' Falkland Islands', 'British Overseas Territory.\\n'], ['Stepanakert', ' Artsakh', 'The self-declared country remains diplomatically unrecognised by UN-member states, including Armenia. Transnistria, South Ossetia, and Abkhazia, all UN non-member states, recognise the state. Claimed in whole by Azerbaijan.\\n'], ['Stockholm', ' Sweden', '\\n'], ['Sucre (constitutional)La Paz (administrative)', ' Bolivia', 'La Paz is the highest administrative capital (3,650 m), higher than Quito.[5]\\n'], ['Sukhumi', ' Abkhazia', 'De facto independent state recognised by Russia, Nauru, Nicaragua, Venezuela, South Ossetia and Transnistria. Claimed in whole by Republic of Georgia as the Autonomous Republic of Abkhazia.\\n'], ['Suva', ' Fiji', '\\n'], ['Taipei', ' Taiwan', \"Officially the Republic of China (ROC), it has been competing for recognition with the People's Republic of China (PRC) as the sole Chinese government since 1949. Taiwan controls the island of Taiwan and its associated islands, Quemoy, Matsu, the Pratas, and part of the Spratly Islands[Note 1] The territory of Taiwan is claimed in whole by the People's Republic of China.[Note 2] The Republic of China participates in the World Health Organization and a number of non-UN international organizations such as the World Trade Organization, International Olympic Committee and others under a variety of pseudonyms, most commonly Chinese Taipei.\\n\"], ['Tallinn', ' Estonia', '\\n'], ['Tarawa', ' Kiribati', '\\n'], ['Tashkent', ' Uzbekistan', '\\n'], ['Tbilisi (official)Kutaisi (legislative)', ' Georgia', '\\n'], ['Tegucigalpa', ' Honduras', '\\n'], ['Tehran', ' Iran', '\\n'], ['Thimphu', ' Bhutan', '\\n'], ['Tirana', ' Albania', '\\n'], ['Tiraspol', ' Transnistria', 'De facto independent state, not recognized by any UN-member, but by Abkhazia and South Ossetia. Claimed in whole by the Republic of Moldova as the Territorial Unit of Transnistria.\\n'], ['Tokyo', ' Japan', '\\n'], ['Tórshavn', ' Faroe Islands', 'Self-governing country within the Kingdom of Denmark.\\n'], ['Tripoli', ' Libya', '\\n'], ['Tskhinvali', ' South Ossetia', 'De facto independent state recognised by Russia, Nicaragua, Nauru, Venezuela, Abkhazia and Transnistria. Claimed in whole by the Republic of Georgia as the Provisional Administrative Entity of South Ossetia.\\n'], ['Tunis', ' Tunisia', '\\n'], ['Ulaanbaatar', ' Mongolia', '\\n'], ['Vaduz', ' Liechtenstein', '\\n'], ['Valletta', ' Malta', '\\n'], ['The Valley', ' Anguilla', 'British Overseas Territory.\\n'], ['Vatican City', ' Vatican City', 'City-state.\\n'], ['Victoria', ' Seychelles', '\\n'], ['Vienna', ' Austria', '\\n'], ['Vientiane', ' Laos', '\\n'], ['Vilnius', ' Lithuania', '\\n'], ['Warsaw', ' Poland', '\\n'], ['Washington, D.C.', ' United States', '\\n'], ['Wellington', ' New Zealand', 'See also: Capital of New Zealand.\\n'], ['West Island', ' Cocos (Keeling) Islands', 'External territory of Australia.\\n'], ['Willemstad', ' Curaçao', 'Self-governing country within the Kingdom of the Netherlands.\\n'], ['Windhoek', ' Namibia', '\\n'], ['Yamoussoukro (official)Abidjan (former capital; still has many government offices)', ' Ivory Coast', '\\n'], ['Yaoundé', ' Cameroon', '\\n'], ['Yaren (de facto)', ' Nauru', 'Country does not have an official capital; however, the government offices are in Yaren.\\n'], ['Yerevan', ' Armenia', '\\n'], ['Zagreb', ' Croatia', '\\n']]\n"
     ]
    }
   ],
   "source": [
    "#fill the row_list\n",
    "\n",
    "for tr in rows:\n",
    "    td = tr.find_all('td')\n",
    "    row = [i.text for i in td]\n",
    "    row_list.append(row)\n",
    "    \n",
    "print(row_list)"
   ]
  },
  {
   "cell_type": "code",
   "execution_count": 21,
   "metadata": {},
   "outputs": [],
   "source": [
    "#create a pandas data frame\n",
    "# https://towardsdatascience.com/a-quick-introduction-to-the-pandas-python-library-f1b678f34673\n",
    "\n",
    "df_bs = pd.DataFrame(row_list,columns=['City','Country','Notes'])\n",
    "df_bs.set_index('Country',inplace=True)\n",
    "df_bs.to_csv('beautifulsoup.csv')"
   ]
  },
  {
   "cell_type": "code",
   "execution_count": 22,
   "metadata": {},
   "outputs": [
    {
     "data": {
      "text/html": [
       "<div>\n",
       "<style scoped>\n",
       "    .dataframe tbody tr th:only-of-type {\n",
       "        vertical-align: middle;\n",
       "    }\n",
       "\n",
       "    .dataframe tbody tr th {\n",
       "        vertical-align: top;\n",
       "    }\n",
       "\n",
       "    .dataframe thead th {\n",
       "        text-align: right;\n",
       "    }\n",
       "</style>\n",
       "<table border=\"1\" class=\"dataframe\">\n",
       "  <thead>\n",
       "    <tr style=\"text-align: right;\">\n",
       "      <th></th>\n",
       "      <th>City</th>\n",
       "      <th>Notes</th>\n",
       "    </tr>\n",
       "    <tr>\n",
       "      <th>Country</th>\n",
       "      <th></th>\n",
       "      <th></th>\n",
       "    </tr>\n",
       "  </thead>\n",
       "  <tbody>\n",
       "    <tr>\n",
       "      <td>NaN</td>\n",
       "      <td>None</td>\n",
       "      <td>None</td>\n",
       "    </tr>\n",
       "    <tr>\n",
       "      <td>United Arab Emirates</td>\n",
       "      <td>Abu Dhabi</td>\n",
       "      <td>\\n</td>\n",
       "    </tr>\n",
       "    <tr>\n",
       "      <td>Nigeria</td>\n",
       "      <td>Abuja</td>\n",
       "      <td>Lagos was the capital from 1914 to 1991.\\n</td>\n",
       "    </tr>\n",
       "    <tr>\n",
       "      <td>Ghana</td>\n",
       "      <td>Accra</td>\n",
       "      <td>\\n</td>\n",
       "    </tr>\n",
       "    <tr>\n",
       "      <td>Pitcairn Islands</td>\n",
       "      <td>Adamstown</td>\n",
       "      <td>British Overseas Territory.\\n</td>\n",
       "    </tr>\n",
       "    <tr>\n",
       "      <td>...</td>\n",
       "      <td>...</td>\n",
       "      <td>...</td>\n",
       "    </tr>\n",
       "    <tr>\n",
       "      <td>Ivory Coast</td>\n",
       "      <td>Yamoussoukro (official)Abidjan (former capital...</td>\n",
       "      <td>\\n</td>\n",
       "    </tr>\n",
       "    <tr>\n",
       "      <td>Cameroon</td>\n",
       "      <td>Yaoundé</td>\n",
       "      <td>\\n</td>\n",
       "    </tr>\n",
       "    <tr>\n",
       "      <td>Nauru</td>\n",
       "      <td>Yaren (de facto)</td>\n",
       "      <td>Country does not have an official capital; how...</td>\n",
       "    </tr>\n",
       "    <tr>\n",
       "      <td>Armenia</td>\n",
       "      <td>Yerevan</td>\n",
       "      <td>\\n</td>\n",
       "    </tr>\n",
       "    <tr>\n",
       "      <td>Croatia</td>\n",
       "      <td>Zagreb</td>\n",
       "      <td>\\n</td>\n",
       "    </tr>\n",
       "  </tbody>\n",
       "</table>\n",
       "<p>245 rows × 2 columns</p>\n",
       "</div>"
      ],
      "text/plain": [
       "                                                                    City  \\\n",
       "Country                                                                    \n",
       "NaN                                                                 None   \n",
       " United Arab Emirates                                          Abu Dhabi   \n",
       " Nigeria                                                           Abuja   \n",
       " Ghana                                                             Accra   \n",
       " Pitcairn Islands                                              Adamstown   \n",
       "...                                                                  ...   \n",
       " Ivory Coast           Yamoussoukro (official)Abidjan (former capital...   \n",
       " Cameroon                                                        Yaoundé   \n",
       " Nauru                                                  Yaren (de facto)   \n",
       " Armenia                                                         Yerevan   \n",
       " Croatia                                                          Zagreb   \n",
       "\n",
       "                                                                   Notes  \n",
       "Country                                                                   \n",
       "NaN                                                                 None  \n",
       " United Arab Emirates                                                 \\n  \n",
       " Nigeria                      Lagos was the capital from 1914 to 1991.\\n  \n",
       " Ghana                                                                \\n  \n",
       " Pitcairn Islands                          British Overseas Territory.\\n  \n",
       "...                                                                  ...  \n",
       " Ivory Coast                                                          \\n  \n",
       " Cameroon                                                             \\n  \n",
       " Nauru                 Country does not have an official capital; how...  \n",
       " Armenia                                                              \\n  \n",
       " Croatia                                                              \\n  \n",
       "\n",
       "[245 rows x 2 columns]"
      ]
     },
     "execution_count": 22,
     "metadata": {},
     "output_type": "execute_result"
    }
   ],
   "source": [
    "df_bs"
   ]
  },
  {
   "cell_type": "markdown",
   "metadata": {},
   "source": [
    "<hr>"
   ]
  },
  {
   "cell_type": "markdown",
   "metadata": {},
   "source": [
    "### Selenium"
   ]
  },
  {
   "cell_type": "markdown",
   "metadata": {},
   "source": [
    "...later"
   ]
  },
  {
   "cell_type": "code",
   "execution_count": null,
   "metadata": {},
   "outputs": [],
   "source": []
  }
 ],
 "metadata": {
  "kernelspec": {
   "display_name": "Python",
   "language": "python",
   "name": "conda-env-python-py"
  },
  "language_info": {
   "codemirror_mode": {
    "name": "ipython",
    "version": 3
   },
   "file_extension": ".py",
   "mimetype": "text/x-python",
   "name": "python",
   "nbconvert_exporter": "python",
   "pygments_lexer": "ipython3",
   "version": "3.6.7"
  }
 },
 "nbformat": 4,
 "nbformat_minor": 4
}
