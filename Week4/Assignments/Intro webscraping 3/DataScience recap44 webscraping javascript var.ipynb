{
 "cells": [
  {
   "cell_type": "markdown",
   "metadata": {},
   "source": [
    "# Small example with webscraping Javascript var\n",
    "\n",
    "https://stackoverflow.com/questions/50477634/scraping-javascript-var-from-html-using-beautiful-soup-in-python"
   ]
  },
  {
   "cell_type": "code",
   "execution_count": 1,
   "metadata": {},
   "outputs": [
    {
     "name": "stdout",
     "output_type": "stream",
     "text": [
      "\"WaX2wWBb9fkp+qVQf6ECq9JcOZJnCL3Y/furfevohpk=\"\n",
      "\"d2c5708bbcc6b53c23af6d2cdab9f4ab\"\n",
      "\"zk/5H7Iz0cNQPxPadMgvDw==\"\n"
     ]
    }
   ],
   "source": [
    "from bs4 import BeautifulSoup\n",
    "import re\n",
    "s = \"\"\"<script type=\"text/javascript\">\n",
    "var accessToken = \"WaX2wWBb9fkp+qVQf6ECq9JcOZJnCL3Y/furfevohpk=\";\n",
    "var ivString = \"d2c5708bbcc6b53c23af6d2cdab9f4ab\";\n",
    "var encryptedFpAccountId = \"zk/5H7Iz0cNQPxPadMgvDw==\";\n",
    "var accessTokenCode = \"0\";\n",
    "var nextPageName=\"signup-retail\n",
    "</script>\"\"\"\n",
    "\n",
    "soup = BeautifulSoup(s, \"html.parser\")\n",
    "script = soup.find(\"script\")\n",
    "accessToken = re.search('var accessToken = (?P<token>.*);', script.string)\n",
    "if accessToken:\n",
    "    print(accessToken.group('token'))\n",
    "ivString = re.search('var ivString = (?P<ivString>.*);', script.string)\n",
    "if ivString:\n",
    "    print(ivString.group('ivString'))\n",
    "\n",
    "encryptedFpAccountId = re.search('var encryptedFpAccountId = (?P<encryptedFpAccountId>.*);', script.string)\n",
    "if encryptedFpAccountId:\n",
    "    print(encryptedFpAccountId.group('encryptedFpAccountId'))"
   ]
  },
  {
   "cell_type": "code",
   "execution_count": null,
   "metadata": {},
   "outputs": [],
   "source": []
  }
 ],
 "metadata": {
  "kernelspec": {
   "display_name": "Python",
   "language": "python",
   "name": "conda-env-python-py"
  },
  "language_info": {
   "codemirror_mode": {
    "name": "ipython",
    "version": 3
   },
   "file_extension": ".py",
   "mimetype": "text/x-python",
   "name": "python",
   "nbconvert_exporter": "python",
   "pygments_lexer": "ipython3",
   "version": "3.6.7"
  }
 },
 "nbformat": 4,
 "nbformat_minor": 4
}
