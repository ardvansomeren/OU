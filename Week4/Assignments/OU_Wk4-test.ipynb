{
 "cells": [
  {
   "cell_type": "markdown",
   "metadata": {},
   "source": [
    "# Eindopdrachten datakwaliteit\n",
    "*Telt mee in eindoordeel*"
   ]
  },
  {
   "cell_type": "markdown",
   "metadata": {},
   "source": [
    "<img src = \"NVB.png\" width = 400 align = 'center'>"
   ]
  },
  {
   "cell_type": "markdown",
   "metadata": {},
   "source": [
    "## Opdracht 1: Schat de leeftijd van een groep mensen op basis van de voornamen.\n",
    "\n",
    "Gegeven de lijst met voornamen van mensen:\n",
    "\n",
    "Jolie, Britt, Ties, Pien, Guus, Nick, Julie, Noud, Renée, Stan, Jana, Lieke, Evi, Aniek, Kiki, Juul, Mathijs, Stijn, Fenne en Femke.\n",
    "\n",
    "Probeer een zo goed mogelijke schatting van de gemiddelde leeftijd van deze groep personen te geven. Leg uit hoe de schatting is gemaakt en probeer een indicatie te geven van de nauwkeurigheid van de schatting.\n",
    "\n",
    "Tip. Gebruik de voornamendatabank van het Meertens instituut: https://www.meertens.knaw.nl/nvb/\n",
    "\n",
    "Hierin kun je een naam zoeken en dan vind je de geboorteaantallen van die naam per jaar. Je kunt dit handmatig doen als je wilt en eventueel Excel gebruiken voor de berekening. Als je programmeertalen en/of webscraping technieken beheerst mag je die ook gebruiken.\n",
    "\n",
    "Kies bij elke naam het geboortejaar met de meeste geboortes van mensen met de betreffende naam. Dat levert een rij jaartallen op. Neem het gemiddelde van deze geboortejaren, en rond dat af op een geheel getal. De gemiddelde leeftijd van de groep wordt geschat door dit getal van 2019 af te trekken. Deze werkwijze is niet erg nauwkeurig. In dit voorbeeld pakt het redelijk uit. Het berekenen van gemiddelde of mediaan kost inderdaad veel meer moeite, is wel mogelijk, maar levert geen betere schatting op."
   ]
  },
  {
   "cell_type": "markdown",
   "metadata": {},
   "source": [
    "## Data prep\n",
    "\n"
   ]
  },
  {
   "cell_type": "code",
   "execution_count": 8,
   "metadata": {},
   "outputs": [
    {
     "name": "stdout",
     "output_type": "stream",
     "text": [
      "Requirement already satisfied: BeautifulSoup4 in /home/jupyterlab/conda/envs/python/lib/python3.6/site-packages (4.8.0)\n",
      "Requirement already satisfied: requests in /home/jupyterlab/conda/envs/python/lib/python3.6/site-packages (2.22.0)\n",
      "Requirement already satisfied: soupsieve>=1.2 in /home/jupyterlab/conda/envs/python/lib/python3.6/site-packages (from BeautifulSoup4) (1.9.3)\n",
      "Requirement already satisfied: urllib3!=1.25.0,!=1.25.1,<1.26,>=1.21.1 in /home/jupyterlab/conda/envs/python/lib/python3.6/site-packages (from requests) (1.24.3)\n",
      "Requirement already satisfied: chardet<3.1.0,>=3.0.2 in /home/jupyterlab/conda/envs/python/lib/python3.6/site-packages (from requests) (3.0.4)\n",
      "Requirement already satisfied: idna<2.9,>=2.5 in /home/jupyterlab/conda/envs/python/lib/python3.6/site-packages (from requests) (2.8)\n",
      "Requirement already satisfied: certifi>=2017.4.17 in /home/jupyterlab/conda/envs/python/lib/python3.6/site-packages (from requests) (2019.6.16)\n",
      "Note: you may need to restart the kernel to use updated packages.\n"
     ]
    }
   ],
   "source": [
    "pip install BeautifulSoup4 requests"
   ]
  },
  {
   "cell_type": "markdown",
   "metadata": {},
   "source": [
    "### Getting source from NVB:\n",
    "\n",
    "https://www.meertens.knaw.nl/nvb/"
   ]
  },
  {
   "cell_type": "code",
   "execution_count": 2,
   "metadata": {},
   "outputs": [],
   "source": [
    "#source = requests.get('https://www.meertens.knaw.nl/nvb/naam/is/Ard').text"
   ]
  },
  {
   "cell_type": "code",
   "execution_count": 1,
   "metadata": {},
   "outputs": [],
   "source": [
    "#namen lijst\n",
    "# Jolie, Britt, Ties, Pien, Guus, Nick, Julie, Noud, Renée, Stan, Jana, Lieke, Evi, Aniek, Kiki, Juul, Mathijs, Stijn, Fenne, Femke\n",
    "\n",
    "#names = ['Ard', 'Jolie', 'Britt', 'Ties', 'Pien', 'Guus', 'Nick', 'Julie', 'Noud', 'Renée', 'Stan', 'Jana', 'Lieke', 'Evi', 'Aniek', 'Kiki', 'Juul', 'Mathijs', 'Stijn', 'Fenne', 'Femke']\n",
    "names = ['Ard']\n",
    "#names[0]"
   ]
  },
  {
   "cell_type": "code",
   "execution_count": 2,
   "metadata": {},
   "outputs": [
    {
     "data": {
      "text/plain": [
       "'https://www.meertens.knaw.nl/nvb/naam/is/Ard'"
      ]
     },
     "execution_count": 2,
     "metadata": {},
     "output_type": "execute_result"
    }
   ],
   "source": [
    "url = ('https://www.meertens.knaw.nl/nvb/naam/is/' + names[0]) #***\n",
    "url"
   ]
  },
  {
   "cell_type": "code",
   "execution_count": 24,
   "metadata": {},
   "outputs": [
    {
     "name": "stdout",
     "output_type": "stream",
     "text": [
      "Connection to  https://www.meertens.knaw.nl/nvb/naam/is/Ard succesfull\n",
      "<!DOCTYPE html PUBLIC \"-//W3C//DTD XHTML 1.0 Strict//EN\" \"http://www.w3.org/TR/xhtml1/DTD/xhtml1-strict.dtd\">\n",
      "<html xmlns=\"http://www.w3.org/1999/xhtml\" xml:lang=\"nl\" lang=\"nl\">\n",
      "  <head>\n",
      "    <meta http-equiv=\"x-ua-compatible\" content=\"IE=Edge\"/>\n",
      "    <meta http-equiv=\"Content-Type\" content=\"text/html;charset=utf-8\" />\n",
      "    <meta http-equiv=\"Content-Language\" content=\"nl\" />\n",
      "    <meta name=\"author\" content=\"Meertens Instituut\" />\n",
      "    <meta name=\"description\" lang=\"nl\" content=\"Voornaam Ard in de Ne\n",
      "True\n",
      "new Array(1880,1881,1882,1883,1884,1885,1886,1887,1888,1889,1890,1891,1892,1893,1894,1895,1896,1897,1898,1899,1900,1901,1902,1903,1904,1905,1906,1907,1908,1909,1910,1911,1912,1913,1914,1915,1916,1917,1918,1919,1920,1921,1922,1923,1924,1925,1926,1927,1928,1929,1930,1931,1932,1933,1934,1935,1936,1937,1938,1939,1940,1941,1942,1943,1944,1945,1946,1947,1948,1949,1950,1951,1952,1953,1954,1955,1956,1957,1958,1959,1960,1961,1962,1963,1964,1965,1966,1967,1968,1969,1970,1971,1972,1973,1974,1975,1976,1977,1978,1979,1980,1981,1982,1983,1984,1985,1986,1987,1988,1989,1990,1991,1992,1993,1994,1995,1996,1997,1998,1999,2000,2001,2002,2003,2004,2005,2006,2007,2008,2009,2010,2011,2012,2013,2014,2015,2016)\n"
     ]
    },
    {
     "ename": "ValueError",
     "evalue": "could not convert string to float: ",
     "output_type": "error",
     "traceback": [
      "\u001b[0;31m---------------------------------------------------------------------------\u001b[0m",
      "\u001b[0;31mValueError\u001b[0m                                Traceback (most recent call last)",
      "\u001b[0;32m<ipython-input-24-10e6762c6d96>\u001b[0m in \u001b[0;36m<module>\u001b[0;34m\u001b[0m\n\u001b[1;32m     53\u001b[0m     \u001b[0;31m# test_list = [int(i) for i in test_list]\u001b[0m\u001b[0;34m\u001b[0m\u001b[0;34m\u001b[0m\u001b[0;34m\u001b[0m\u001b[0m\n\u001b[1;32m     54\u001b[0m     \u001b[0mvalues\u001b[0m \u001b[0;34m=\u001b[0m \u001b[0mvalue_list\u001b[0m\u001b[0;34m[\u001b[0m\u001b[0;36m10\u001b[0m\u001b[0;34m:\u001b[0m\u001b[0;34m-\u001b[0m\u001b[0;36m1\u001b[0m\u001b[0;34m]\u001b[0m\u001b[0;34m.\u001b[0m\u001b[0msplit\u001b[0m\u001b[0;34m(\u001b[0m\u001b[0;34m\",\"\u001b[0m\u001b[0;34m)\u001b[0m\u001b[0;34m\u001b[0m\u001b[0;34m\u001b[0m\u001b[0m\n\u001b[0;32m---> 55\u001b[0;31m     \u001b[0mvalues\u001b[0m \u001b[0;34m=\u001b[0m \u001b[0;34m[\u001b[0m\u001b[0mfloat\u001b[0m\u001b[0;34m(\u001b[0m\u001b[0mi\u001b[0m\u001b[0;34m)\u001b[0m \u001b[0;32mfor\u001b[0m \u001b[0mi\u001b[0m \u001b[0;32min\u001b[0m \u001b[0mvalues\u001b[0m\u001b[0;34m]\u001b[0m\u001b[0;34m\u001b[0m\u001b[0;34m\u001b[0m\u001b[0m\n\u001b[0m\u001b[1;32m     56\u001b[0m     \u001b[0mprint\u001b[0m\u001b[0;34m(\u001b[0m\u001b[0;34m'values: '\u001b[0m \u001b[0;34m+\u001b[0m \u001b[0mstr\u001b[0m\u001b[0;34m(\u001b[0m\u001b[0mlen\u001b[0m\u001b[0;34m(\u001b[0m\u001b[0mvalues\u001b[0m\u001b[0;34m)\u001b[0m\u001b[0;34m)\u001b[0m \u001b[0;34m+\u001b[0m \u001b[0;34m' total'\u001b[0m\u001b[0;34m)\u001b[0m\u001b[0;34m\u001b[0m\u001b[0;34m\u001b[0m\u001b[0m\n\u001b[1;32m     57\u001b[0m \u001b[0;34m\u001b[0m\u001b[0m\n",
      "\u001b[0;32m<ipython-input-24-10e6762c6d96>\u001b[0m in \u001b[0;36m<listcomp>\u001b[0;34m(.0)\u001b[0m\n\u001b[1;32m     53\u001b[0m     \u001b[0;31m# test_list = [int(i) for i in test_list]\u001b[0m\u001b[0;34m\u001b[0m\u001b[0;34m\u001b[0m\u001b[0;34m\u001b[0m\u001b[0m\n\u001b[1;32m     54\u001b[0m     \u001b[0mvalues\u001b[0m \u001b[0;34m=\u001b[0m \u001b[0mvalue_list\u001b[0m\u001b[0;34m[\u001b[0m\u001b[0;36m10\u001b[0m\u001b[0;34m:\u001b[0m\u001b[0;34m-\u001b[0m\u001b[0;36m1\u001b[0m\u001b[0;34m]\u001b[0m\u001b[0;34m.\u001b[0m\u001b[0msplit\u001b[0m\u001b[0;34m(\u001b[0m\u001b[0;34m\",\"\u001b[0m\u001b[0;34m)\u001b[0m\u001b[0;34m\u001b[0m\u001b[0;34m\u001b[0m\u001b[0m\n\u001b[0;32m---> 55\u001b[0;31m     \u001b[0mvalues\u001b[0m \u001b[0;34m=\u001b[0m \u001b[0;34m[\u001b[0m\u001b[0mfloat\u001b[0m\u001b[0;34m(\u001b[0m\u001b[0mi\u001b[0m\u001b[0;34m)\u001b[0m \u001b[0;32mfor\u001b[0m \u001b[0mi\u001b[0m \u001b[0;32min\u001b[0m \u001b[0mvalues\u001b[0m\u001b[0;34m]\u001b[0m\u001b[0;34m\u001b[0m\u001b[0;34m\u001b[0m\u001b[0m\n\u001b[0m\u001b[1;32m     56\u001b[0m     \u001b[0mprint\u001b[0m\u001b[0;34m(\u001b[0m\u001b[0;34m'values: '\u001b[0m \u001b[0;34m+\u001b[0m \u001b[0mstr\u001b[0m\u001b[0;34m(\u001b[0m\u001b[0mlen\u001b[0m\u001b[0;34m(\u001b[0m\u001b[0mvalues\u001b[0m\u001b[0;34m)\u001b[0m\u001b[0;34m)\u001b[0m \u001b[0;34m+\u001b[0m \u001b[0;34m' total'\u001b[0m\u001b[0;34m)\u001b[0m\u001b[0;34m\u001b[0m\u001b[0;34m\u001b[0m\u001b[0m\n\u001b[1;32m     57\u001b[0m \u001b[0;34m\u001b[0m\u001b[0m\n",
      "\u001b[0;31mValueError\u001b[0m: could not convert string to float: "
     ]
    }
   ],
   "source": [
    "# getting length of list \n",
    "length = len(names)\n",
    "\n",
    "from bs4 import BeautifulSoup\n",
    "import requests\n",
    "\n",
    "# put it into the soup\n",
    "# Retrieve page data\n",
    "headers = {'User-Agent': 'Mozilla/5.0 (Windows NT 6.3; Win64; x64) AppleWebKit/537.36 (KHTML, like Gecko) Chrome/54.0.2840.71 Safari/537.36'} #header spoofing\n",
    "   \n",
    "# Iterating the index of names to get the data\n",
    "get_years = True\n",
    "myDict = {}\n",
    "\n",
    "for i in range(length): \n",
    "    url = ('https://www.meertens.knaw.nl/nvb/naam/is/' + names[i])\n",
    "    #connect to website\n",
    "\n",
    "    try:\n",
    "        from requests import get\n",
    "        response = get(url, headers=headers)\n",
    "        print(\"Connection to \", url, \"succesfull\")\n",
    "        print(response.text[:500]) # only first 500 char (from:to) - slice\n",
    "    except:\n",
    "        print(\"An error occured while connecting to \" + url)\n",
    "        \n",
    "    # put in the soup\n",
    "    html_soup = BeautifulSoup(response.text, 'html.parser')\n",
    "    \n",
    "    # parse out html\n",
    "    content = html_soup.find('div', id = 'content')\n",
    "    script = content.script\n",
    "       \n",
    "    # get years just once\n",
    "    while get_years:\n",
    "        # find all years on the histogram - div VerticalScaleMarkerTitle in var year_list\n",
    "        import re #RegEx\n",
    "        yearlist = re.search('var year_list = (?P<token>.*);', script.string)\n",
    "        year_list = yearlist.group('token')[10:-1]\n",
    "        years = year_list[10:-1].split(\",\")\n",
    "        \n",
    "        if yearlist:\n",
    "            print(get_years)\n",
    "            print(yearlist.group('token'))\n",
    "            \n",
    "        get_years = False\n",
    "        \n",
    "    # get values and add to a list\n",
    "    valuelist = re.search('var value_list = (?P<token>.*);', script.string)\n",
    "    #if valuelist:\n",
    "    #    print(valuelist.group('token'))\n",
    "    value_list = valuelist.group('token')[10:-1]\n",
    "    # test_list = [int(i) for i in test_list]\n",
    "    values = value_list[10:-1].split(\",\")\n",
    "    values = [float(i) for i in values]\n",
    "    print('values: ' + str(len(values)) + ' total')\n",
    "    \n",
    "    \n",
    "    # Adding list as value\n",
    "    name = names[i]\n",
    "    myDict[name] = values\n",
    "    #print(name)\n",
    "    #print(myDict)\n",
    "    \n",
    "print(myDict)\n",
    "\n",
    "# create a pandas dataframe\n",
    "import pandas as pd\n",
    "colNames = years\n",
    "dictOne = myDict\n",
    "df1 = pd.DataFrame.from_dict(dictOne, orient='index', columns=colNames)\n",
    "df1\n",
    "\n",
    "# cleanup data\n",
    "    \n",
    "print('END OF CRAWL of ' + str(i) + ' names')"
   ]
  },
  {
   "cell_type": "code",
   "execution_count": 5,
   "metadata": {},
   "outputs": [
    {
     "data": {
      "text/plain": [
       "135"
      ]
     },
     "execution_count": 5,
     "metadata": {},
     "output_type": "execute_result"
    }
   ],
   "source": [
    "len(years)"
   ]
  },
  {
   "cell_type": "code",
   "execution_count": 28,
   "metadata": {},
   "outputs": [
    {
     "data": {
      "text/plain": [
       "14"
      ]
     },
     "execution_count": 28,
     "metadata": {},
     "output_type": "execute_result"
    }
   ],
   "source": [
    "test = round(float('14.5'))\n",
    "test"
   ]
  },
  {
   "cell_type": "code",
   "execution_count": 111,
   "metadata": {
    "collapsed": true,
    "jupyter": {
     "outputs_hidden": true,
     "source_hidden": true
    }
   },
   "outputs": [
    {
     "name": "stdout",
     "output_type": "stream",
     "text": [
      "Connection to  https://www.meertens.knaw.nl/nvb/naam/is/Jolie succesfull\n",
      "<!DOCTYPE html PUBLIC \"-//W3C//DTD XHTML 1.0 Strict//EN\" \"http://www.w3.org/TR/xhtml1/DTD/xhtml1-strict.dtd\">\n",
      "<html xmlns=\"http://www.w3.org/1999/xhtml\" xml:lang=\"nl\" lang=\"nl\">\n",
      "  <head>\n",
      "    <meta http-equiv=\"x-ua-compatible\" content=\"IE=Edge\"/>\n",
      "    <meta http-equiv=\"Content-Type\" content=\"text/html;charset=utf-8\" />\n",
      "    <meta http-equiv=\"Content-Language\" content=\"nl\" />\n",
      "    <meta name=\"author\" content=\"Meertens Instituut\" />\n",
      "    <meta name=\"description\" lang=\"nl\" content=\"Voornaam Jolie in de \n"
     ]
    }
   ],
   "source": [
    "# put it into the soup\n",
    "\n",
    "# Retrieve first page data\n",
    "\n",
    "headers = {'User-Agent': 'Mozilla/5.0 (Windows NT 6.3; Win64; x64) AppleWebKit/537.36 (KHTML, like Gecko) Chrome/54.0.2840.71 Safari/537.36'} #header spoofing\n",
    "#headers = {\"Accept-Language\": \"en-US, en;q=0.5\"}\n",
    "\n",
    "url = ('https://www.meertens.knaw.nl/nvb/naam/is/' + names[1]) #***\n",
    "\n",
    "#connect to website\n",
    "\n",
    "try:\n",
    "    from requests import get\n",
    "    response = get(url, headers=headers)\n",
    "    print(\"Connection to \", url, \"succesfull\")\n",
    "    print(response.text[:500]) # only first 500 char (from:to) - slice\n",
    "except:\n",
    "    print(\"An error occured.\")"
   ]
  },
  {
   "cell_type": "code",
   "execution_count": 92,
   "metadata": {
    "collapsed": true,
    "jupyter": {
     "outputs_hidden": true
    }
   },
   "outputs": [
    {
     "name": "stdout",
     "output_type": "stream",
     "text": [
      "<!DOCTYPE html PUBLIC \"-//W3C//DTD XHTML 1.0 Strict//EN\" \"http://www.w3.org/TR/xhtml1/DTD/xhtml1-strict.dtd\">\n",
      "<html lang=\"nl\" xml:lang=\"nl\" xmlns=\"http://www.w3.org/1999/xhtml\">\n",
      " <head>\n",
      "  <meta content=\"IE=Edge\" http-equiv=\"x-ua-compatible\"/>\n",
      "  <meta content=\"text/html;charset=utf-8\" http-equiv=\"Content-Type\"/>\n",
      "  <meta content=\"nl\" http-equiv=\"Content-Language\"/>\n",
      "  <meta content=\"Meertens Instituut\" name=\"author\"/>\n",
      "  <meta content=\"Voornaam Ard in de Nederlandse Voornamenbank\" lang=\"nl\" name=\"description\"/>\n",
      "  <title>\n",
      "   NVB : voornaam Ard\n",
      "  </title>\n",
      "  <script src=\"/nvb/layout/functions.js\" type=\"text/javascript\">\n",
      "  </script>\n",
      "  <script src=\"/nvb/layout/histogram.js\" type=\"text/javascript\">\n",
      "  </script>\n",
      "  <script src=\"/nvb/layout/diffusion.js\" type=\"text/javascript\">\n",
      "  </script>\n",
      "  <script src=\"/nvb/layout/XMLHttpRequest.js\" type=\"text/javascript\">\n",
      "  </script>\n",
      "  <!--\n",
      "    <link rel=\"stylesheet\" type=\"text/css\" href=\"/nvb/layout/databanken.css\"/>\n",
      "    //-->\n",
      "  <link href=\"/nvb/layout/style.css\" rel=\"stylesheet\" type=\"text/css\"/>\n",
      "  <link href=\"/nvb/layout/histogram.css\" rel=\"stylesheet\" type=\"text/css\"/>\n",
      "  <link href=\"/cms/templates/mi_hetgelaat/css/reset_old_db_styles.css\" rel=\"stylesheet\" type=\"text/css\"/>\n",
      "  <link href=\"/cms/templates/mi_hetgelaat/css/style.css\" id=\"hetgelaat-css\" rel=\"stylesheet\" type=\"text/css\"/>\n",
      "  <link href=\"/cms/templates/mi_hetgelaat/css/styles_extra_jpk.css\" rel=\"stylesheet\" type=\"text/css\"/>\n",
      " </head>\n",
      " <body>\n",
      "  <!-- Google Tag Manager -->\n",
      "  <noscript>\n",
      "   <iframe height=\"0\" src=\"//www.googletagmanager.com/ns.html?id=GTM-KXNM34\" style=\"display:none;visibility:hidden\" width=\"0\">\n",
      "   </iframe>\n",
      "  </noscript>\n",
      "  <script>\n",
      "   (function(w,d,s,l,i){w[l]=w[l]||[];w[l].push({'gtm.start':\n",
      "    new Date().getTime(),event:'gtm.js'});var f=d.getElementsByTagName(s)[0],\n",
      "      j=d.createElement(s),dl=l!='dataLayer'?'&l='+l:'';j.async=true;j.src=\n",
      "      '//www.googletagmanager.com/gtm.js?id='+i+dl;f.parentNode.insertBefore(j,f);\n",
      "      })(window,document,'script','dataLayer','GTM-KXNM34');\n",
      "  </script>\n",
      "  <!-- End Google Tag Manager -->\n",
      "  <div id=\"wrapper\">\n",
      "   <div class=\"header\" id=\"header\">\n",
      "    <a href=\"/\">\n",
      "     Meertens Instituut\n",
      "    </a>\n",
      "    →\n",
      "    <a href=\"/databanken/\">\n",
      "     Databanken\n",
      "    </a>\n",
      "    →\n",
      "    <a href=\"/nvb/\">\n",
      "     Voornamen\n",
      "    </a>\n",
      "   </div>\n",
      "   <div id=\"contentwrapper\">\n",
      "    <div id=\"content\">\n",
      "     <div id=\"searchform\">\n",
      "      <form action=\"/nvb/\" method=\"get\" onsubmit=\"return submit_search('/nvb/',this);\">\n",
      "       <fieldset class=\"searchform\">\n",
      "        <b>\n",
      "         Voornaam\n",
      "        </b>\n",
      "        <input name=\"action\" type=\"hidden\" value=\"naam\"/>\n",
      "        <select name=\"operator\" size=\"1\">\n",
      "         <option label=\"is gelijk aan\" selected=\"selected\" value=\"is\">\n",
      "          is gelijk aan\n",
      "         </option>\n",
      "         <option label=\"begint met\" value=\"begintmet\">\n",
      "          begint met\n",
      "         </option>\n",
      "         <option label=\"eindigt op\" value=\"eindigtop\">\n",
      "          eindigt op\n",
      "         </option>\n",
      "         <option label=\"bevat\" value=\"bevat\">\n",
      "          bevat\n",
      "         </option>\n",
      "         <option label=\"geavanceerd\" value=\"regexp\">\n",
      "          geavanceerd\n",
      "         </option>\n",
      "        </select>\n",
      "        <input name=\"key\" size=\"20\" type=\"text\" value=\"Ard\"/>\n",
      "        <input type=\"submit\" value=\"Zoek!\"/>\n",
      "       </fieldset>\n",
      "      </form>\n",
      "      <span id=\"topnamenlink\" style=\"float: right;\">\n",
      "       <a href=\"/nvb/topnamen\">\n",
      "        populariteitslijsten\n",
      "       </a>\n",
      "      </span>\n",
      "     </div>\n",
      "     <div class=\"title\">\n",
      "      <a href=\"/nvb/\">\n",
      "       Nederlandse Voornamenbank\n",
      "      </a>\n",
      "     </div>\n",
      "     <div class=\"namedetails\">\n",
      "      <div class=\"name\">\n",
      "       Ard\n",
      "      </div>\n",
      "     </div>\n",
      "     <div class=\"namemenu\">\n",
      "      <div class=\"item_selected\">\n",
      "       <a href=\"/nvb/populariteit/naam/Ard\">\n",
      "        populariteit\n",
      "       </a>\n",
      "      </div>\n",
      "      <div class=\"item\">\n",
      "       <a href=\"/nvb/verspreiding/naam/Ard\">\n",
      "        verspreiding\n",
      "       </a>\n",
      "      </div>\n",
      "      <div class=\"item\">\n",
      "       <a href=\"/nvb/verklaring/naam/Ard\">\n",
      "        verklaring\n",
      "       </a>\n",
      "      </div>\n",
      "      <!--\n",
      "    <div class=\"item_disabled\">varianten</div>\n",
      "    //-->\n",
      "     </div>\n",
      "     <div class=\"nameinfo\">\n",
      "      <a name=\"data\">\n",
      "      </a>\n",
      "      <!--\n",
      "  <div class=\"title\">Populariteit 1880-2016</div>\n",
      "  //-->\n",
      "      <table class=\"nameinfo\">\n",
      "       <tr>\n",
      "        <td class=\"header\">\n",
      "         m\n",
      "        </td>\n",
      "        <td class=\"smallcolumn\">\n",
      "        </td>\n",
      "        <td class=\"header\">\n",
      "         NL totaal (2014)\n",
      "        </td>\n",
      "        <td class=\"smallcolumn\">\n",
      "        </td>\n",
      "        <td class=\"header\">\n",
      "         %\n",
      "        </td>\n",
      "        <td class=\"header\">\n",
      "        </td>\n",
      "        <td class=\"header\">\n",
      "        </td>\n",
      "       </tr>\n",
      "       <tr>\n",
      "        <td>\n",
      "         als eerste naam:\n",
      "        </td>\n",
      "        <td class=\"smallcolumn\">\n",
      "        </td>\n",
      "        <td>\n",
      "         388\n",
      "        </td>\n",
      "        <td class=\"smallcolumn\">\n",
      "        </td>\n",
      "        <td>\n",
      "         0.0053%\n",
      "        </td>\n",
      "        <td>\n",
      "         [\n",
      "         <a class=\"selected\" href=\"/nvb/populariteit/absoluut/man/eerstenaam/Ard#data\">\n",
      "          populariteit\n",
      "         </a>\n",
      "         ]\n",
      "        </td>\n",
      "        <td>\n",
      "         [\n",
      "         <a href=\"/nvb/populariteit/relatief/man/eerstenaam/Ard#data\">\n",
      "          % populariteit\n",
      "         </a>\n",
      "         ]\n",
      "        </td>\n",
      "       </tr>\n",
      "       <tr>\n",
      "        <td>\n",
      "         als volgnaam:\n",
      "        </td>\n",
      "        <td class=\"smallcolumn\">\n",
      "        </td>\n",
      "        <td>\n",
      "         114\n",
      "        </td>\n",
      "        <td class=\"smallcolumn\">\n",
      "        </td>\n",
      "        <td>\n",
      "         0.0016%\n",
      "        </td>\n",
      "        <td>\n",
      "         [\n",
      "         <a href=\"/nvb/populariteit/absoluut/man/volgnaam/Ard#data\">\n",
      "          populariteit\n",
      "         </a>\n",
      "         ]\n",
      "        </td>\n",
      "        <td>\n",
      "         [\n",
      "         <a href=\"/nvb/populariteit/relatief/man/volgnaam/Ard#data\">\n",
      "          % populariteit\n",
      "         </a>\n",
      "         ]\n",
      "        </td>\n",
      "       </tr>\n",
      "       <tr>\n",
      "        <td class=\"spacer\" colspan=\"7\">\n",
      "        </td>\n",
      "       </tr>\n",
      "       <tr>\n",
      "        <td class=\"header\">\n",
      "         v\n",
      "        </td>\n",
      "        <td class=\"smallcolumn\">\n",
      "        </td>\n",
      "        <td class=\"header\">\n",
      "        </td>\n",
      "        <td class=\"smallcolumn\">\n",
      "        </td>\n",
      "        <td class=\"header\">\n",
      "        </td>\n",
      "        <td class=\"header\">\n",
      "        </td>\n",
      "        <td class=\"header\">\n",
      "        </td>\n",
      "       </tr>\n",
      "       <tr>\n",
      "        <td>\n",
      "         als eerste naam:\n",
      "        </td>\n",
      "        <td class=\"smallcolumn\">\n",
      "        </td>\n",
      "        <td>\n",
      "         --\n",
      "        </td>\n",
      "        <td class=\"smallcolumn\">\n",
      "        </td>\n",
      "        <td>\n",
      "         --\n",
      "        </td>\n",
      "        <td>\n",
      "         [\n",
      "         <a href=\"/nvb/populariteit/absoluut/vrouw/eerstenaam/Ard#data\">\n",
      "          populariteit\n",
      "         </a>\n",
      "         ]\n",
      "        </td>\n",
      "        <td>\n",
      "         [\n",
      "         <a href=\"/nvb/populariteit/relatief/vrouw/eerstenaam/Ard#data\">\n",
      "          % populariteit\n",
      "         </a>\n",
      "         ]\n",
      "        </td>\n",
      "       </tr>\n",
      "       <tr>\n",
      "        <td>\n",
      "         als volgnaam:\n",
      "        </td>\n",
      "        <td class=\"smallcolumn\">\n",
      "         &lt;\n",
      "        </td>\n",
      "        <td>\n",
      "         5\n",
      "        </td>\n",
      "        <td class=\"smallcolumn\">\n",
      "         &lt;\n",
      "        </td>\n",
      "        <td>\n",
      "         0.0001%\n",
      "        </td>\n",
      "        <td>\n",
      "         [\n",
      "         <a href=\"/nvb/populariteit/absoluut/vrouw/volgnaam/Ard#data\">\n",
      "          populariteit\n",
      "         </a>\n",
      "         ]\n",
      "        </td>\n",
      "        <td>\n",
      "         [\n",
      "         <a href=\"/nvb/populariteit/relatief/vrouw/volgnaam/Ard#data\">\n",
      "          % populariteit\n",
      "         </a>\n",
      "         ]\n",
      "        </td>\n",
      "       </tr>\n",
      "      </table>\n",
      "     </div>\n",
      "     <div class=\"popularity\">\n",
      "      <div class=\"title\">\n",
      "       Populariteit van 'Ard' als eerste naam voor mannen  tussen 1880 en 2016\n",
      "      </div>\n",
      "      <div class=\"histogram\" id=\"histogram\">\n",
      "       <noscript>\n",
      "        <div>\n",
      "         <img alt=\"populariteit\" src=\"/nvb/populariteit/absoluut/man/afbeelding/naam/Ard\"/>\n",
      "        </div>\n",
      "       </noscript>\n",
      "      </div>\n",
      "     </div>\n",
      "     <script type=\"text/javascript\">\n",
      "      <!--\n",
      "        var year_list = new Array(1880,1881,1882,1883,1884,1885,1886,1887,1888,1889,1890,1891,1892,1893,1894,1895,1896,1897,1898,1899,1900,1901,1902,1903,1904,1905,1906,1907,1908,1909,1910,1911,1912,1913,1914,1915,1916,1917,1918,1919,1920,1921,1922,1923,1924,1925,1926,1927,1928,1929,1930,1931,1932,1933,1934,1935,1936,1937,1938,1939,1940,1941,1942,1943,1944,1945,1946,1947,1948,1949,1950,1951,1952,1953,1954,1955,1956,1957,1958,1959,1960,1961,1962,1963,1964,1965,1966,1967,1968,1969,1970,1971,1972,1973,1974,1975,1976,1977,1978,1979,1980,1981,1982,1983,1984,1985,1986,1987,1988,1989,1990,1991,1992,1993,1994,1995,1996,1997,1998,1999,2000,2001,2002,2003,2004,2005,2006,2007,2008,2009,2010,2011,2012,2013,2014,2015,2016);\n",
      "        var value_list = new Array(0,0,0,0,0,0,0,0,0,0,0,0,0,0,0,0,0,0,0,0,0,0,0,0,0,0,0,0,0,0,0,0,0,0,0,0,0,0,0,0,0,0,0,0,0,0,0,0,0,0,0,0,0,0,0,0,0,0,0,0,0,0,0,0,0,0,0,0,0,0,0,0,0,0,0,0,0,0,0,0,0.86,0,0,0,0,0,0,0,14,17,25,24,17,10,10,11,12,8,10,15,10,11,6,6,6,9,8,9,6,7,5,6,6,10,5.5,5.5,4.5,4.5,8,8,10,7,7,6,7,3,3,2.5,2.5,4.5,4.5,0,3.5,3,3,3,0);\n",
      "        var stepsize_list = new Array(0,0,0,0,0,0,0,0,0,0,0,0,0,0,0,0,0,0,0,0,0,0,0,0,0,0,0,0,0,0,0,0,0,0,0,0,0,0,0,0,0,0,0,0,0,0,0,0,0,0,0,0,0,0,0,0,0,0,0,0,0,0,0,0,0,0,0,0,0,0,0,0,0,0,0,0,0,0,0,7,7,7,7,7,7,7,1,1,1,1,1,1,1,1,1,1,1,1,1,1,1,1,1,2,2,1,1,1,1,1,1,1,1,1,2,2,2,2,1,1,1,1,1,1,1,2,2,2,2,2,2,2,2,3,3,3,0);\n",
      "        var steptotal_value_list = new Array(0,0,0,0,0,0,0,0,0,0,0,0,0,0,0,0,0,0,0,0,0,0,0,0,0,0,0,0,0,0,0,0,0,0,0,0,0,0,0,0,0,0,0,0,0,0,0,0,0,0,0,0,0,0,0,0,0,0,0,0,0,0,0,0,0,0,0,0,0,0,0,0,0,0,0,0,0,0,0,6,6,6,6,6,6,6,11,10,14,17,25,24,17,10,10,11,12,8,10,15,10,11,6,12,12,9,8,9,6,7,5,6,6,10,11,11,9,9,8,8,10,7,7,6,7,6,6,5,5,9,9,7,7,9,9,9,0);\n",
      "        var steptotal_approximation_list = new Array(0,0,0,0,0,0,0,0,0,0,0,0,0,0,0,0,0,0,0,0,0,0,0,0,0,0,0,0,0,0,0,0,0,0,0,0,0,0,0,0,0,0,0,0,0,0,0,0,0,0,0,0,0,0,0,0,0,0,0,0,0,0,0,0,0,0,0,0,0,0,0,0,0,0,0,0,0,0,0,6.3,6.27,6.24,6.23,6.22,6.21,6.19,11.33,10.25,14.28,17.32,25.37,24.3,17.23,10.12,10.14,11.13,12.11,8.07,10.11,15.13,10.03,11.07,6.01,12,12,9,8.01,9.01,6.02,7.01,5.01,6.01,6,10,11,11,9,9,8,8,10,7,7,6,7,6.02,6,5,5,9.06,9.11,7.07,7.11,9.18,9,9,0);\n",
      "        var approximation_list = new Array(0,0,0,0,0,0,0,0,0,0,0,0,0,0,0,0,0,0,0,0,0,0,0,0,0,0,0,0,0,0,0,0,0,0,0,0,0,0,0,0,0,0,0,0,0,0,0,0,0,0,0,0,0,0,0,0,0,0,0,0,0,0,0,0,0,0,0,0,0,0,0,0,0,0,0,0,0,0,0,0.88,0,0.89,0.89,0.9,0.91,0.89,11.33,10.25,0,0,0,0,0,0,0,0,0,0,0,0,0,0,0,0,0,0,0,0,0,0,0,0,0,0,0,0,0,0,0,0,0,0,0,0,0,0,0,0,0,0,0,3.58,0,0,0,0,0);\n",
      "        histogram = new histogram(\"histogram\",1880,2020,0,32,10,10,20,50);\n",
      "        histogram.setScaleX(1880,10,1890,10)\n",
      "        histogram.setScaleY(0,6,0,6)\n",
      "        for(var i=0;i<year_list.length;i++) { \n",
      "          if((value_list[i]>0) || (steptotal_approximation_list[i]>0)) {\n",
      "            if(stepsize_list[i]>1) {\n",
      "              histogram.addItem(year_list[i],value_list[i],1,1,year_list[i]+': '+steptotal_value_list[i]+' geboortes in '+stepsize_list[i]+' jaar');\n",
      "            } else {\n",
      "              histogram.addItem(year_list[i],value_list[i],1,1,year_list[i]+': '+value_list[i]+' geboortes');\n",
      "            }\n",
      "          }  \n",
      "          if((approximation_list[i]>0) || (steptotal_approximation_list[i]>0)) {\n",
      "            if(stepsize_list[i]>1) { \n",
      "              histogram.addItem(year_list[i],approximation_list[i],1,0,year_list[i]+' (schatting) : '+Math.round(steptotal_approximation_list[i])+' geboortes in '+stepsize_list[i]+' jaar');\n",
      "            } else { \n",
      "              histogram.addItem(year_list[i],approximation_list[i],1,0,year_list[i]+' (schatting) : '+Math.round(approximation_list[i])+' geboortes');\n",
      "            }\n",
      "          }   \n",
      "        }\n",
      "        histogram.addPrintButton('/nvb/populariteit/absoluut/man/afbeelding/naam/Ard','printversie');\n",
      "      //-->\n",
      "     </script>\n",
      "    </div>\n",
      "   </div>\n",
      "   <div class=\"footer\" id=\"footer\">\n",
      "    <div id=\"footertext\">\n",
      "     <strong>\n",
      "      MEERTENS INSTITUUT\n",
      "     </strong>\n",
      "     Postbus 94264, 1090 GG Amsterdam.\n",
      "          Telefoon +31 (0)20 4628500. \n",
      "          Fax +31 (0)20 4628555.\n",
      "     <span class=\"email\">\n",
      "      <script type=\"text/javascript\">\n",
      "       <!--\n",
      "            var part1 = \"nvb\";\n",
      "            var part2 = \"meertens.knaw.nl?subject=Nederlandse Voornamenbank\";\n",
      "            var part3 = \"nvb\"+\"@\"+\"meertens.knaw.nl\";\n",
      "            document.write('<a href=\"mai' + 'lto:' + part1 + '@' + part2 + '\">');\n",
      "            document.write(part3 + '</a>');\n",
      "            // -->\n",
      "      </script>\n",
      "     </span>\n",
      "    </div>\n",
      "    <div id=\"footercopyright\">\n",
      "     © 2000-2019\n",
      "     <a href=\"http://www.meertens.knaw.nl/\">\n",
      "      KNAW / Meertens Instituut\n",
      "     </a>\n",
      "    </div>\n",
      "    <div id=\"disclaimer\">\n",
      "     <a href=\"http://www.meertens.knaw.nl/soundbites/disclaimer.php\">\n",
      "      disclaimer\n",
      "     </a>\n",
      "    </div>\n",
      "   </div>\n",
      "  </div>\n",
      "  <script src=\"/nvb/../cms/templates/mi_hetgelaat/js/meertens.databanken.js\">\n",
      "  </script>\n",
      " </body>\n",
      "</html>\n"
     ]
    }
   ],
   "source": [
    "print(html_soup.prettify())"
   ]
  },
  {
   "cell_type": "markdown",
   "metadata": {},
   "source": [
    "### Parsing out the information from the table"
   ]
  },
  {
   "cell_type": "code",
   "execution_count": 3,
   "metadata": {},
   "outputs": [],
   "source": [
    "from bs4 import BeautifulSoup\n",
    "import requests"
   ]
  },
  {
   "cell_type": "code",
   "execution_count": 112,
   "metadata": {
    "collapsed": true,
    "jupyter": {
     "outputs_hidden": true
    }
   },
   "outputs": [
    {
     "data": {
      "text/plain": [
       "bs4.BeautifulSoup"
      ]
     },
     "execution_count": 112,
     "metadata": {},
     "output_type": "execute_result"
    }
   ],
   "source": [
    "html_soup = BeautifulSoup(response.text, 'html.parser')\n",
    "type(html_soup)"
   ]
  },
  {
   "cell_type": "code",
   "execution_count": 113,
   "metadata": {
    "collapsed": true,
    "jupyter": {
     "outputs_hidden": true,
     "source_hidden": true
    }
   },
   "outputs": [
    {
     "name": "stdout",
     "output_type": "stream",
     "text": [
      "<class 'bs4.element.Tag'>\n",
      "15\n"
     ]
    },
    {
     "data": {
      "text/plain": [
       "<div id=\"content\">\n",
       "<div id=\"searchform\">\n",
       "<form action=\"/nvb/\" method=\"get\" onsubmit=\"return submit_search('/nvb/',this);\">\n",
       "<fieldset class=\"searchform\">\n",
       "<b>Voornaam</b>\n",
       "<input name=\"action\" type=\"hidden\" value=\"naam\"/>\n",
       "<select name=\"operator\" size=\"1\">\n",
       "<option label=\"is gelijk aan\" selected=\"selected\" value=\"is\">is gelijk aan</option>\n",
       "<option label=\"begint met\" value=\"begintmet\">begint met</option>\n",
       "<option label=\"eindigt op\" value=\"eindigtop\">eindigt op</option>\n",
       "<option label=\"bevat\" value=\"bevat\">bevat</option>\n",
       "<option label=\"geavanceerd\" value=\"regexp\">geavanceerd</option>\n",
       "</select>\n",
       "<input name=\"key\" size=\"20\" type=\"text\" value=\"Jolie\"/>\n",
       "<input type=\"submit\" value=\"Zoek!\"/>\n",
       "</fieldset>\n",
       "</form>\n",
       "<span id=\"topnamenlink\" style=\"float: right;\"><a href=\"/nvb/topnamen\">populariteitslijsten</a></span>\n",
       "</div> <div class=\"title\"><a href=\"/nvb/\">Nederlandse Voornamenbank</a></div>\n",
       "<div class=\"namedetails\">\n",
       "<div class=\"name\">Jolie</div>\n",
       "<div class=\"variants\">\n",
       "  ook\n",
       "                  <a href=\"/nvb/populariteit/naam/Jol%C3%ADe\">Jolíe</a>\n",
       "                    ,\n",
       "            <a href=\"/nvb/populariteit/naam/J%C3%B3lie\">Jólie</a>\n",
       "                    ,\n",
       "            <a href=\"/nvb/populariteit/naam/Joli%C3%A9\">Jolié</a>\n",
       "                    ,\n",
       "            <a href=\"/nvb/populariteit/naam/Jol%C3%ACe\">Jolìe</a>\n",
       "                    en\n",
       "            <a href=\"/nvb/populariteit/naam/Joli%C3%A8\">Joliè</a>\n",
       "</div>\n",
       "</div>\n",
       "<div class=\"namemenu\">\n",
       "<div class=\"item_selected\"><a href=\"/nvb/populariteit/naam/Jolie\">populariteit</a></div>\n",
       "<div class=\"item\"><a href=\"/nvb/verspreiding/naam/Jolie\">verspreiding</a></div>\n",
       "<div class=\"item\"><a href=\"/nvb/verklaring/naam/Jolie\">verklaring</a></div>\n",
       "<!--\n",
       "    <div class=\"item_disabled\">varianten</div>\n",
       "    //-->\n",
       "</div>\n",
       "<div class=\"nameinfo\">\n",
       "<a name=\"data\"></a>\n",
       "<!--\n",
       "  <div class=\"title\">Populariteit 1880-2016</div>\n",
       "  //-->\n",
       "<table class=\"nameinfo\">\n",
       "<tr>\n",
       "<td class=\"header\">m</td>\n",
       "<td class=\"smallcolumn\"></td>\n",
       "<td class=\"header\">NL totaal (2014)</td>\n",
       "<td class=\"smallcolumn\"></td>\n",
       "<td class=\"header\">%</td>\n",
       "<td class=\"header\"></td>\n",
       "<td class=\"header\"></td>\n",
       "</tr>\n",
       "<tr>\n",
       "<td>als eerste naam:</td>\n",
       "<td class=\"smallcolumn\"></td>\n",
       "<td>--</td>\n",
       "<td class=\"smallcolumn\"></td>\n",
       "<td>--</td>\n",
       "<td>[<a href=\"/nvb/populariteit/absoluut/man/eerstenaam/Jolie#data\">populariteit</a>]</td>\n",
       "<td>[<a href=\"/nvb/populariteit/relatief/man/eerstenaam/Jolie#data\">% populariteit</a>]</td>\n",
       "</tr>\n",
       "<tr>\n",
       "<td>als volgnaam:</td>\n",
       "<td class=\"smallcolumn\">&lt;</td>\n",
       "<td>5</td>\n",
       "<td class=\"smallcolumn\">&lt;</td>\n",
       "<td>0.0001%</td>\n",
       "<td>[<a href=\"/nvb/populariteit/absoluut/man/volgnaam/Jolie#data\">populariteit</a>]</td>\n",
       "<td>[<a href=\"/nvb/populariteit/relatief/man/volgnaam/Jolie#data\">% populariteit</a>]</td>\n",
       "</tr>\n",
       "<tr>\n",
       "<td class=\"spacer\" colspan=\"7\"></td>\n",
       "</tr>\n",
       "<tr>\n",
       "<td class=\"header\">v</td>\n",
       "<td class=\"smallcolumn\"></td>\n",
       "<td class=\"header\"></td>\n",
       "<td class=\"smallcolumn\"></td>\n",
       "<td class=\"header\"></td>\n",
       "<td class=\"header\"></td>\n",
       "<td class=\"header\"></td>\n",
       "</tr>\n",
       "<tr>\n",
       "<td>als eerste naam:</td>\n",
       "<td class=\"smallcolumn\"></td>\n",
       "<td>950</td>\n",
       "<td class=\"smallcolumn\"></td>\n",
       "<td>0.0128%</td>\n",
       "<td>[<a class=\"selected\" href=\"/nvb/populariteit/absoluut/vrouw/eerstenaam/Jolie#data\">populariteit</a>]</td>\n",
       "<td>[<a href=\"/nvb/populariteit/relatief/vrouw/eerstenaam/Jolie#data\">% populariteit</a>]</td>\n",
       "</tr>\n",
       "<tr>\n",
       "<td>als volgnaam:</td>\n",
       "<td class=\"smallcolumn\"></td>\n",
       "<td>973</td>\n",
       "<td class=\"smallcolumn\"></td>\n",
       "<td>0.0132%</td>\n",
       "<td>[<a href=\"/nvb/populariteit/absoluut/vrouw/volgnaam/Jolie#data\">populariteit</a>]</td>\n",
       "<td>[<a href=\"/nvb/populariteit/relatief/vrouw/volgnaam/Jolie#data\">% populariteit</a>]</td>\n",
       "</tr>\n",
       "</table>\n",
       "</div>\n",
       "<div class=\"popularity\">\n",
       "<div class=\"title\">Populariteit van 'Jolie' als eerste naam voor vrouwen  tussen 1880 en 2016</div>\n",
       "<div class=\"histogram\" id=\"histogram\">\n",
       "<noscript>\n",
       "<div><img alt=\"populariteit\" src=\"/nvb/populariteit/absoluut/vrouw/afbeelding/naam/Jolie\"/></div>\n",
       "</noscript>\n",
       "</div>\n",
       "</div>\n",
       "<script type=\"text/javascript\">\n",
       "      <!--\n",
       "        var year_list = new Array(1880,1881,1882,1883,1884,1885,1886,1887,1888,1889,1890,1891,1892,1893,1894,1895,1896,1897,1898,1899,1900,1901,1902,1903,1904,1905,1906,1907,1908,1909,1910,1911,1912,1913,1914,1915,1916,1917,1918,1919,1920,1921,1922,1923,1924,1925,1926,1927,1928,1929,1930,1931,1932,1933,1934,1935,1936,1937,1938,1939,1940,1941,1942,1943,1944,1945,1946,1947,1948,1949,1950,1951,1952,1953,1954,1955,1956,1957,1958,1959,1960,1961,1962,1963,1964,1965,1966,1967,1968,1969,1970,1971,1972,1973,1974,1975,1976,1977,1978,1979,1980,1981,1982,1983,1984,1985,1986,1987,1988,1989,1990,1991,1992,1993,1994,1995,1996,1997,1998,1999,2000,2001,2002,2003,2004,2005,2006,2007,2008,2009,2010,2011,2012,2013,2014,2015,2016);\n",
       "        var value_list = new Array(0,0,0,0,0,0,0,0,0,0,0,0,0,0,0,0,0,0,0,0,0,0,0,0,0,0,0,0,0,0,0,0,0,0,0,0,0,0,0,0,0,0,0,0,0,0,0,0,0,0,0,0,0,0,0,0,0,0,0,0,0,0,0,0,0,0,0,0,0,0.29,0.29,0.29,0.29,0.29,0.29,0.29,0.29,0.29,0.29,0,0.29,0,0,0,0,0,1.5,1.5,0,0,0,1.25,0,1.5,1.5,1.5,1.5,1.5,1.5,1.5,1.67,1.67,1.67,2.25,2.25,2.25,2.25,5.5,5.5,5,5,3,3,6,7,5,15,12,6,12,13,27,23,21,30,33,52,49,38,47,61,108,106,106,124,133,143);\n",
       "        var stepsize_list = new Array(0,0,0,0,0,0,0,0,0,0,0,0,0,0,0,0,0,0,0,0,0,0,0,0,0,0,0,0,0,0,0,0,0,0,0,0,0,0,0,0,0,0,0,0,0,0,0,0,0,0,0,0,0,0,0,0,0,0,0,0,0,0,0,0,0,0,0,17,17,17,17,17,17,17,17,17,17,17,17,17,17,17,17,17,4,4,4,4,4,4,4,4,4,4,4,4,4,4,4,4,3,3,3,4,4,4,4,2,2,2,2,2,2,1,1,1,1,1,1,1,1,1,1,1,1,1,1,1,1,1,1,1,1,1,1,1,1);\n",
       "        var steptotal_value_list = new Array(0,0,0,0,0,0,0,0,0,0,0,0,0,0,0,0,0,0,0,0,0,0,0,0,0,0,0,0,0,0,0,0,0,0,0,0,0,0,0,0,0,0,0,0,0,0,0,0,0,0,0,0,0,0,0,0,0,0,0,0,0,0,0,0,0,0,0,5,5,5,5,5,5,5,5,5,5,5,5,5,5,5,5,5,6,6,6,6,5,5,5,5,6,6,6,6,6,6,6,6,5,5,5,9,9,9,9,11,11,10,10,6,6,6,7,5,15,12,6,12,13,27,23,21,30,33,52,49,38,47,61,108,106,106,124,133,143);\n",
       "        var steptotal_approximation_list = new Array(0,0,0,0,0,0,0,0,0,0,0,0,0,0,0,0,0,0,0,0,0,0,0,0,0,0,0,0,0,0,0,0,0,0,0,0,0,0,0,0,0,0,0,0,0,0,0,0,0,0,0,0,0,0,0,0,0,0,0,0,0,0,0,0,0,0,0,5.44,5.41,5.37,5.39,5.34,5.3,5.25,5.23,5.2,5.17,5.17,5.16,5.17,5.14,5.12,5.13,5.12,6.13,6.12,6.13,6.11,5.06,5.06,5.05,5.03,6.03,6.05,6.04,6.04,6.04,6.02,6.04,6.02,5,5.02,5,9,9,9,9,11,11,10,10,6,6,6,7,5,15,12,6,12,13,27,23,21,30,33.03,52,49,38,47.19,61.66,109.01,107.46,107.98,124,133,143);\n",
       "        var approximation_list = new Array(0,0,0,0,0,0,0,0,0,0,0,0,0,0,0,0,0,0,0,0,0,0,0,0,0,0,0,0,0,0,0,0,0,0,0,0,0,0,0,0,0,0,0,0,0,0,0,0,0,0,0,0,0,0,0,0,0,0,0,0,0,0,0,0,0,0,0,0.34,0.31,0,0,0,0,0,0,0,0,0,0,0.31,0,0.31,0.31,0.32,1.59,1.55,0,0,1.29,1.35,1.3,0,1.66,0,0,0,0,0,0,0,0,0,0,0,0,0,0,0,0,0,0,0,0,0,0,0,0,0,0,0,0,0,0,0,0,0,0,0,0,0,0,0,0,0,0,0,0);\n",
       "        histogram = new histogram(\"histogram\",1880,2020,0,158,10,10,20,50);\n",
       "        histogram.setScaleX(1880,10,1890,10)\n",
       "        histogram.setScaleY(0,30,0,30)\n",
       "        for(var i=0;i<year_list.length;i++) { \n",
       "          if((value_list[i]>0) || (steptotal_approximation_list[i]>0)) {\n",
       "            if(stepsize_list[i]>1) {\n",
       "              histogram.addItem(year_list[i],value_list[i],1,1,year_list[i]+': '+steptotal_value_list[i]+' geboortes in '+stepsize_list[i]+' jaar');\n",
       "            } else {\n",
       "              histogram.addItem(year_list[i],value_list[i],1,1,year_list[i]+': '+value_list[i]+' geboortes');\n",
       "            }\n",
       "          }  \n",
       "          if((approximation_list[i]>0) || (steptotal_approximation_list[i]>0)) {\n",
       "            if(stepsize_list[i]>1) { \n",
       "              histogram.addItem(year_list[i],approximation_list[i],1,0,year_list[i]+' (schatting) : '+Math.round(steptotal_approximation_list[i])+' geboortes in '+stepsize_list[i]+' jaar');\n",
       "            } else { \n",
       "              histogram.addItem(year_list[i],approximation_list[i],1,0,year_list[i]+' (schatting) : '+Math.round(approximation_list[i])+' geboortes');\n",
       "            }\n",
       "          }   \n",
       "        }\n",
       "        histogram.addPrintButton('/nvb/populariteit/absoluut/vrouw/afbeelding/naam/Jolie','printversie');\n",
       "      //-->\n",
       "      </script>\n",
       "</div>"
      ]
     },
     "execution_count": 113,
     "metadata": {},
     "output_type": "execute_result"
    }
   ],
   "source": [
    "# Explore resulting HTML\n",
    "\n",
    "content = html_soup.find('div', id = 'content')\n",
    "print(type(content))\n",
    "print(len(content))\n",
    "content"
   ]
  },
  {
   "cell_type": "code",
   "execution_count": 114,
   "metadata": {
    "collapsed": true,
    "jupyter": {
     "outputs_hidden": true,
     "source_hidden": true
    }
   },
   "outputs": [
    {
     "data": {
      "text/plain": [
       "<script type=\"text/javascript\">\n",
       "      <!--\n",
       "        var year_list = new Array(1880,1881,1882,1883,1884,1885,1886,1887,1888,1889,1890,1891,1892,1893,1894,1895,1896,1897,1898,1899,1900,1901,1902,1903,1904,1905,1906,1907,1908,1909,1910,1911,1912,1913,1914,1915,1916,1917,1918,1919,1920,1921,1922,1923,1924,1925,1926,1927,1928,1929,1930,1931,1932,1933,1934,1935,1936,1937,1938,1939,1940,1941,1942,1943,1944,1945,1946,1947,1948,1949,1950,1951,1952,1953,1954,1955,1956,1957,1958,1959,1960,1961,1962,1963,1964,1965,1966,1967,1968,1969,1970,1971,1972,1973,1974,1975,1976,1977,1978,1979,1980,1981,1982,1983,1984,1985,1986,1987,1988,1989,1990,1991,1992,1993,1994,1995,1996,1997,1998,1999,2000,2001,2002,2003,2004,2005,2006,2007,2008,2009,2010,2011,2012,2013,2014,2015,2016);\n",
       "        var value_list = new Array(0,0,0,0,0,0,0,0,0,0,0,0,0,0,0,0,0,0,0,0,0,0,0,0,0,0,0,0,0,0,0,0,0,0,0,0,0,0,0,0,0,0,0,0,0,0,0,0,0,0,0,0,0,0,0,0,0,0,0,0,0,0,0,0,0,0,0,0,0,0.29,0.29,0.29,0.29,0.29,0.29,0.29,0.29,0.29,0.29,0,0.29,0,0,0,0,0,1.5,1.5,0,0,0,1.25,0,1.5,1.5,1.5,1.5,1.5,1.5,1.5,1.67,1.67,1.67,2.25,2.25,2.25,2.25,5.5,5.5,5,5,3,3,6,7,5,15,12,6,12,13,27,23,21,30,33,52,49,38,47,61,108,106,106,124,133,143);\n",
       "        var stepsize_list = new Array(0,0,0,0,0,0,0,0,0,0,0,0,0,0,0,0,0,0,0,0,0,0,0,0,0,0,0,0,0,0,0,0,0,0,0,0,0,0,0,0,0,0,0,0,0,0,0,0,0,0,0,0,0,0,0,0,0,0,0,0,0,0,0,0,0,0,0,17,17,17,17,17,17,17,17,17,17,17,17,17,17,17,17,17,4,4,4,4,4,4,4,4,4,4,4,4,4,4,4,4,3,3,3,4,4,4,4,2,2,2,2,2,2,1,1,1,1,1,1,1,1,1,1,1,1,1,1,1,1,1,1,1,1,1,1,1,1);\n",
       "        var steptotal_value_list = new Array(0,0,0,0,0,0,0,0,0,0,0,0,0,0,0,0,0,0,0,0,0,0,0,0,0,0,0,0,0,0,0,0,0,0,0,0,0,0,0,0,0,0,0,0,0,0,0,0,0,0,0,0,0,0,0,0,0,0,0,0,0,0,0,0,0,0,0,5,5,5,5,5,5,5,5,5,5,5,5,5,5,5,5,5,6,6,6,6,5,5,5,5,6,6,6,6,6,6,6,6,5,5,5,9,9,9,9,11,11,10,10,6,6,6,7,5,15,12,6,12,13,27,23,21,30,33,52,49,38,47,61,108,106,106,124,133,143);\n",
       "        var steptotal_approximation_list = new Array(0,0,0,0,0,0,0,0,0,0,0,0,0,0,0,0,0,0,0,0,0,0,0,0,0,0,0,0,0,0,0,0,0,0,0,0,0,0,0,0,0,0,0,0,0,0,0,0,0,0,0,0,0,0,0,0,0,0,0,0,0,0,0,0,0,0,0,5.44,5.41,5.37,5.39,5.34,5.3,5.25,5.23,5.2,5.17,5.17,5.16,5.17,5.14,5.12,5.13,5.12,6.13,6.12,6.13,6.11,5.06,5.06,5.05,5.03,6.03,6.05,6.04,6.04,6.04,6.02,6.04,6.02,5,5.02,5,9,9,9,9,11,11,10,10,6,6,6,7,5,15,12,6,12,13,27,23,21,30,33.03,52,49,38,47.19,61.66,109.01,107.46,107.98,124,133,143);\n",
       "        var approximation_list = new Array(0,0,0,0,0,0,0,0,0,0,0,0,0,0,0,0,0,0,0,0,0,0,0,0,0,0,0,0,0,0,0,0,0,0,0,0,0,0,0,0,0,0,0,0,0,0,0,0,0,0,0,0,0,0,0,0,0,0,0,0,0,0,0,0,0,0,0,0.34,0.31,0,0,0,0,0,0,0,0,0,0,0.31,0,0.31,0.31,0.32,1.59,1.55,0,0,1.29,1.35,1.3,0,1.66,0,0,0,0,0,0,0,0,0,0,0,0,0,0,0,0,0,0,0,0,0,0,0,0,0,0,0,0,0,0,0,0,0,0,0,0,0,0,0,0,0,0,0,0);\n",
       "        histogram = new histogram(\"histogram\",1880,2020,0,158,10,10,20,50);\n",
       "        histogram.setScaleX(1880,10,1890,10)\n",
       "        histogram.setScaleY(0,30,0,30)\n",
       "        for(var i=0;i<year_list.length;i++) { \n",
       "          if((value_list[i]>0) || (steptotal_approximation_list[i]>0)) {\n",
       "            if(stepsize_list[i]>1) {\n",
       "              histogram.addItem(year_list[i],value_list[i],1,1,year_list[i]+': '+steptotal_value_list[i]+' geboortes in '+stepsize_list[i]+' jaar');\n",
       "            } else {\n",
       "              histogram.addItem(year_list[i],value_list[i],1,1,year_list[i]+': '+value_list[i]+' geboortes');\n",
       "            }\n",
       "          }  \n",
       "          if((approximation_list[i]>0) || (steptotal_approximation_list[i]>0)) {\n",
       "            if(stepsize_list[i]>1) { \n",
       "              histogram.addItem(year_list[i],approximation_list[i],1,0,year_list[i]+' (schatting) : '+Math.round(steptotal_approximation_list[i])+' geboortes in '+stepsize_list[i]+' jaar');\n",
       "            } else { \n",
       "              histogram.addItem(year_list[i],approximation_list[i],1,0,year_list[i]+' (schatting) : '+Math.round(approximation_list[i])+' geboortes');\n",
       "            }\n",
       "          }   \n",
       "        }\n",
       "        histogram.addPrintButton('/nvb/populariteit/absoluut/vrouw/afbeelding/naam/Jolie','printversie');\n",
       "      //-->\n",
       "      </script>"
      ]
     },
     "execution_count": 114,
     "metadata": {},
     "output_type": "execute_result"
    }
   ],
   "source": [
    "script = content.script\n",
    "script"
   ]
  },
  {
   "cell_type": "code",
   "execution_count": 115,
   "metadata": {
    "collapsed": true,
    "jupyter": {
     "outputs_hidden": true,
     "source_hidden": true
    }
   },
   "outputs": [
    {
     "name": "stdout",
     "output_type": "stream",
     "text": [
      "new Array(1880,1881,1882,1883,1884,1885,1886,1887,1888,1889,1890,1891,1892,1893,1894,1895,1896,1897,1898,1899,1900,1901,1902,1903,1904,1905,1906,1907,1908,1909,1910,1911,1912,1913,1914,1915,1916,1917,1918,1919,1920,1921,1922,1923,1924,1925,1926,1927,1928,1929,1930,1931,1932,1933,1934,1935,1936,1937,1938,1939,1940,1941,1942,1943,1944,1945,1946,1947,1948,1949,1950,1951,1952,1953,1954,1955,1956,1957,1958,1959,1960,1961,1962,1963,1964,1965,1966,1967,1968,1969,1970,1971,1972,1973,1974,1975,1976,1977,1978,1979,1980,1981,1982,1983,1984,1985,1986,1987,1988,1989,1990,1991,1992,1993,1994,1995,1996,1997,1998,1999,2000,2001,2002,2003,2004,2005,2006,2007,2008,2009,2010,2011,2012,2013,2014,2015,2016)\n"
     ]
    }
   ],
   "source": [
    "# find all years on the histogram - div VerticalScaleMarkerTitle in var year_list #*** slechts 1 keer \n",
    "\n",
    "import re #RegEx\n",
    "\n",
    "yearlist = re.search('var year_list = (?P<token>.*);', script.string)\n",
    "if yearlist:\n",
    "    print(yearlist.group('token'))\n"
   ]
  },
  {
   "cell_type": "code",
   "execution_count": 116,
   "metadata": {
    "collapsed": true,
    "jupyter": {
     "outputs_hidden": true,
     "source_hidden": true
    }
   },
   "outputs": [
    {
     "name": "stdout",
     "output_type": "stream",
     "text": [
      "new Array(0,0,0,0,0,0,0,0,0,0,0,0,0,0,0,0,0,0,0,0,0,0,0,0,0,0,0,0,0,0,0,0,0,0,0,0,0,0,0,0,0,0,0,0,0,0,0,0,0,0,0,0,0,0,0,0,0,0,0,0,0,0,0,0,0,0,0,0,0,0.29,0.29,0.29,0.29,0.29,0.29,0.29,0.29,0.29,0.29,0,0.29,0,0,0,0,0,1.5,1.5,0,0,0,1.25,0,1.5,1.5,1.5,1.5,1.5,1.5,1.5,1.67,1.67,1.67,2.25,2.25,2.25,2.25,5.5,5.5,5,5,3,3,6,7,5,15,12,6,12,13,27,23,21,30,33,52,49,38,47,61,108,106,106,124,133,143)\n"
     ]
    }
   ],
   "source": [
    "# find all values on the histogram - div item0 and item1 in var vaulue_list\n",
    "\n",
    "#import re #RegEx\n",
    "\n",
    "valuelist = re.search('var value_list = (?P<token>.*);', script.string)\n",
    "if valuelist:\n",
    "    print(valuelist.group('token'))"
   ]
  },
  {
   "cell_type": "markdown",
   "metadata": {},
   "source": [
    "## manual check of the results\n",
    "\n",
    "Carefull: some value results are not integer values. This is due to the way they are measured and displayed in the histogram - these are estimates over two or more years. i.e. in 2009 and 2010 the estimate was 9 over 2 years. So 2009 and 2010 both have the value of 4.5."
   ]
  },
  {
   "cell_type": "code",
   "execution_count": 117,
   "metadata": {},
   "outputs": [
    {
     "name": "stdout",
     "output_type": "stream",
     "text": [
      "<_sre.SRE_Match object; span=(20, 732), match='var year_list = new Array(1880,1881,1882,1883,188>\n"
     ]
    },
    {
     "data": {
      "text/plain": [
       "'1880,1881,1882,1883,1884,1885,1886,1887,1888,1889,1890,1891,1892,1893,1894,1895,1896,1897,1898,1899,1900,1901,1902,1903,1904,1905,1906,1907,1908,1909,1910,1911,1912,1913,1914,1915,1916,1917,1918,1919,1920,1921,1922,1923,1924,1925,1926,1927,1928,1929,1930,1931,1932,1933,1934,1935,1936,1937,1938,1939,1940,1941,1942,1943,1944,1945,1946,1947,1948,1949,1950,1951,1952,1953,1954,1955,1956,1957,1958,1959,1960,1961,1962,1963,1964,1965,1966,1967,1968,1969,1970,1971,1972,1973,1974,1975,1976,1977,1978,1979,1980,1981,1982,1983,1984,1985,1986,1987,1988,1989,1990,1991,1992,1993,1994,1995,1996,1997,1998,1999,2000,2001,2002,2003,2004,2005,2006,2007,2008,2009,2010,2011,2012,2013,2014,2015,2016'"
      ]
     },
     "execution_count": 117,
     "metadata": {},
     "output_type": "execute_result"
    }
   ],
   "source": [
    "# slicing the strings year_list\n",
    "\n",
    "print(yearlist)\n",
    "type(yearlist)\n",
    "year_list = yearlist.group('token')[10:-1]\n",
    "year_list"
   ]
  },
  {
   "cell_type": "code",
   "execution_count": 118,
   "metadata": {
    "jupyter": {
     "source_hidden": true
    }
   },
   "outputs": [
    {
     "data": {
      "text/plain": [
       "'0,0,0,0,0,0,0,0,0,0,0,0,0,0,0,0,0,0,0,0,0,0,0,0,0,0,0,0,0,0,0,0,0,0,0,0,0,0,0,0,0,0,0,0,0,0,0,0,0,0,0,0,0,0,0,0,0,0,0,0,0,0,0,0,0,0,0,0,0,0.29,0.29,0.29,0.29,0.29,0.29,0.29,0.29,0.29,0.29,0,0.29,0,0,0,0,0,1.5,1.5,0,0,0,1.25,0,1.5,1.5,1.5,1.5,1.5,1.5,1.5,1.67,1.67,1.67,2.25,2.25,2.25,2.25,5.5,5.5,5,5,3,3,6,7,5,15,12,6,12,13,27,23,21,30,33,52,49,38,47,61,108,106,106,124,133,143'"
      ]
     },
     "execution_count": 118,
     "metadata": {},
     "output_type": "execute_result"
    }
   ],
   "source": [
    "# slicing the strings value_list\n",
    "\n",
    "value_list = valuelist.group('token')[10:-1]\n",
    "value_list"
   ]
  },
  {
   "cell_type": "code",
   "execution_count": 119,
   "metadata": {
    "jupyter": {
     "source_hidden": true
    }
   },
   "outputs": [],
   "source": [
    "# split the year_list string and put in a list\n",
    "years = year_list[10:-1].split(\",\")   "
   ]
  },
  {
   "cell_type": "code",
   "execution_count": 13,
   "metadata": {
    "collapsed": true,
    "jupyter": {
     "outputs_hidden": true,
     "source_hidden": true
    }
   },
   "outputs": [
    {
     "data": {
      "text/plain": [
       "['1880',\n",
       " '1881',\n",
       " '1882',\n",
       " '1883',\n",
       " '1884',\n",
       " '1885',\n",
       " '1886',\n",
       " '1887',\n",
       " '1888',\n",
       " '1889',\n",
       " '1890',\n",
       " '1891',\n",
       " '1892',\n",
       " '1893',\n",
       " '1894',\n",
       " '1895',\n",
       " '1896',\n",
       " '1897',\n",
       " '1898',\n",
       " '1899',\n",
       " '1900',\n",
       " '1901',\n",
       " '1902',\n",
       " '1903',\n",
       " '1904',\n",
       " '1905',\n",
       " '1906',\n",
       " '1907',\n",
       " '1908',\n",
       " '1909',\n",
       " '1910',\n",
       " '1911',\n",
       " '1912',\n",
       " '1913',\n",
       " '1914',\n",
       " '1915',\n",
       " '1916',\n",
       " '1917',\n",
       " '1918',\n",
       " '1919',\n",
       " '1920',\n",
       " '1921',\n",
       " '1922',\n",
       " '1923',\n",
       " '1924',\n",
       " '1925',\n",
       " '1926',\n",
       " '1927',\n",
       " '1928',\n",
       " '1929',\n",
       " '1930',\n",
       " '1931',\n",
       " '1932',\n",
       " '1933',\n",
       " '1934',\n",
       " '1935',\n",
       " '1936',\n",
       " '1937',\n",
       " '1938',\n",
       " '1939',\n",
       " '1940',\n",
       " '1941',\n",
       " '1942',\n",
       " '1943',\n",
       " '1944',\n",
       " '1945',\n",
       " '1946',\n",
       " '1947',\n",
       " '1948',\n",
       " '1949',\n",
       " '1950',\n",
       " '1951',\n",
       " '1952',\n",
       " '1953',\n",
       " '1954',\n",
       " '1955',\n",
       " '1956',\n",
       " '1957',\n",
       " '1958',\n",
       " '1959',\n",
       " '1960',\n",
       " '1961',\n",
       " '1962',\n",
       " '1963',\n",
       " '1964',\n",
       " '1965',\n",
       " '1966',\n",
       " '1967',\n",
       " '1968',\n",
       " '1969',\n",
       " '1970',\n",
       " '1971',\n",
       " '1972',\n",
       " '1973',\n",
       " '1974',\n",
       " '1975',\n",
       " '1976',\n",
       " '1977',\n",
       " '1978',\n",
       " '1979',\n",
       " '1980',\n",
       " '1981',\n",
       " '1982',\n",
       " '1983',\n",
       " '1984',\n",
       " '1985',\n",
       " '1986',\n",
       " '1987',\n",
       " '1988',\n",
       " '1989',\n",
       " '1990',\n",
       " '1991',\n",
       " '1992',\n",
       " '1993',\n",
       " '1994',\n",
       " '1995',\n",
       " '1996',\n",
       " '1997',\n",
       " '1998',\n",
       " '1999',\n",
       " '2000',\n",
       " '2001',\n",
       " '2002',\n",
       " '2003',\n",
       " '2004',\n",
       " '2005',\n",
       " '2006',\n",
       " '2007',\n",
       " '2008',\n",
       " '2009',\n",
       " '2010',\n",
       " '2011',\n",
       " '2012',\n",
       " '2013',\n",
       " '2014',\n",
       " '2015',\n",
       " '2016']"
      ]
     },
     "execution_count": 13,
     "metadata": {},
     "output_type": "execute_result"
    }
   ],
   "source": [
    "years"
   ]
  },
  {
   "cell_type": "code",
   "execution_count": 120,
   "metadata": {
    "collapsed": true,
    "jupyter": {
     "outputs_hidden": true,
     "source_hidden": true
    }
   },
   "outputs": [
    {
     "data": {
      "text/plain": [
       "['0',\n",
       " '0',\n",
       " '0',\n",
       " '0',\n",
       " '0',\n",
       " '0',\n",
       " '0',\n",
       " '0',\n",
       " '0',\n",
       " '0',\n",
       " '0',\n",
       " '0',\n",
       " '0',\n",
       " '0',\n",
       " '0',\n",
       " '0',\n",
       " '0',\n",
       " '0',\n",
       " '0',\n",
       " '0',\n",
       " '0',\n",
       " '0',\n",
       " '0',\n",
       " '0',\n",
       " '0',\n",
       " '0',\n",
       " '0',\n",
       " '0',\n",
       " '0',\n",
       " '0',\n",
       " '0',\n",
       " '0',\n",
       " '0',\n",
       " '0',\n",
       " '0',\n",
       " '0',\n",
       " '0',\n",
       " '0',\n",
       " '0',\n",
       " '0',\n",
       " '0',\n",
       " '0',\n",
       " '0',\n",
       " '0',\n",
       " '0',\n",
       " '0',\n",
       " '0',\n",
       " '0',\n",
       " '0',\n",
       " '0',\n",
       " '0',\n",
       " '0',\n",
       " '0',\n",
       " '0',\n",
       " '0',\n",
       " '0',\n",
       " '0',\n",
       " '0',\n",
       " '0',\n",
       " '0',\n",
       " '0',\n",
       " '0',\n",
       " '0',\n",
       " '0',\n",
       " '0',\n",
       " '0',\n",
       " '0',\n",
       " '0',\n",
       " '0',\n",
       " '0.29',\n",
       " '0.29',\n",
       " '0.29',\n",
       " '0.29',\n",
       " '0.29',\n",
       " '0.29',\n",
       " '0.29',\n",
       " '0.29',\n",
       " '0.29',\n",
       " '0.29',\n",
       " '0',\n",
       " '0.29',\n",
       " '0',\n",
       " '0',\n",
       " '0',\n",
       " '0',\n",
       " '0',\n",
       " '1.5',\n",
       " '1.5',\n",
       " '0',\n",
       " '0',\n",
       " '0',\n",
       " '1.25',\n",
       " '0',\n",
       " '1.5',\n",
       " '1.5',\n",
       " '1.5',\n",
       " '1.5',\n",
       " '1.5',\n",
       " '1.5',\n",
       " '1.5',\n",
       " '1.67',\n",
       " '1.67',\n",
       " '1.67',\n",
       " '2.25',\n",
       " '2.25',\n",
       " '2.25',\n",
       " '2.25',\n",
       " '5.5',\n",
       " '5.5',\n",
       " '5',\n",
       " '5',\n",
       " '3',\n",
       " '3',\n",
       " '6',\n",
       " '7',\n",
       " '5',\n",
       " '15',\n",
       " '12',\n",
       " '6',\n",
       " '12',\n",
       " '13',\n",
       " '27',\n",
       " '23',\n",
       " '21',\n",
       " '30',\n",
       " '33',\n",
       " '52',\n",
       " '49',\n",
       " '38',\n",
       " '47',\n",
       " '61',\n",
       " '108',\n",
       " '106',\n",
       " '106',\n",
       " '124',\n",
       " '133',\n",
       " '143']"
      ]
     },
     "execution_count": 120,
     "metadata": {},
     "output_type": "execute_result"
    }
   ],
   "source": [
    "# split the value_list string and put in a list\n",
    "\n",
    "values = value_list.split(\",\")\n",
    "values"
   ]
  },
  {
   "cell_type": "markdown",
   "metadata": {},
   "source": [
    "OU/Week4/Assignments/Intro webscraping 3/DataScience recap45 append-dict.ipynb"
   ]
  },
  {
   "cell_type": "code",
   "execution_count": 121,
   "metadata": {},
   "outputs": [
    {
     "name": "stdout",
     "output_type": "stream",
     "text": [
      "{'jolie': ['0', '0', '0', '0', '0', '0', '0', '0', '0', '0', '0', '0', '0', '0', '0', '0', '0', '0', '0', '0', '0', '0', '0', '0', '0', '0', '0', '0', '0', '0', '0', '0', '0', '0', '0', '0', '0', '0', '0', '0', '0', '0', '0', '0', '0', '0', '0', '0', '0', '0', '0', '0', '0', '0', '0', '0', '0', '0', '0', '0', '0', '0', '0', '0', '0', '0', '0', '0', '0', '0.29', '0.29', '0.29', '0.29', '0.29', '0.29', '0.29', '0.29', '0.29', '0.29', '0', '0.29', '0', '0', '0', '0', '0', '1.5', '1.5', '0', '0', '0', '1.25', '0', '1.5', '1.5', '1.5', '1.5', '1.5', '1.5', '1.5', '1.67', '1.67', '1.67', '2.25', '2.25', '2.25', '2.25', '5.5', '5.5', '5', '5', '3', '3', '6', '7', '5', '15', '12', '6', '12', '13', '27', '23', '21', '30', '33', '52', '49', '38', '47', '61', '108', '106', '106', '124', '133', '143']}\n"
     ]
    }
   ],
   "source": [
    "# Creating an empty dictionary \n",
    "myDict = {} \n",
    "\n",
    "# Adding list as value \n",
    "#myDict[\"Ard\"] = values \n",
    "myDict[\"jolie\"] = values\n",
    "#myDict[\"Piet\"] = values\n",
    "\n",
    "print(myDict) \n"
   ]
  },
  {
   "cell_type": "code",
   "execution_count": 8,
   "metadata": {
    "collapsed": true,
    "jupyter": {
     "outputs_hidden": true
    }
   },
   "outputs": [
    {
     "ename": "ValueError",
     "evalue": "135 columns passed, passed data had 132 columns",
     "output_type": "error",
     "traceback": [
      "\u001b[0;31m---------------------------------------------------------------------------\u001b[0m",
      "\u001b[0;31mAssertionError\u001b[0m                            Traceback (most recent call last)",
      "\u001b[0;32m~/conda/envs/python/lib/python3.6/site-packages/pandas/core/internals/construction.py\u001b[0m in \u001b[0;36m_list_to_arrays\u001b[0;34m(data, columns, coerce_float, dtype)\u001b[0m\n\u001b[1;32m    499\u001b[0m         result = _convert_object_array(\n\u001b[0;32m--> 500\u001b[0;31m             \u001b[0mcontent\u001b[0m\u001b[0;34m,\u001b[0m \u001b[0mcolumns\u001b[0m\u001b[0;34m,\u001b[0m \u001b[0mdtype\u001b[0m\u001b[0;34m=\u001b[0m\u001b[0mdtype\u001b[0m\u001b[0;34m,\u001b[0m \u001b[0mcoerce_float\u001b[0m\u001b[0;34m=\u001b[0m\u001b[0mcoerce_float\u001b[0m\u001b[0;34m\u001b[0m\u001b[0;34m\u001b[0m\u001b[0m\n\u001b[0m\u001b[1;32m    501\u001b[0m         )\n",
      "\u001b[0;32m~/conda/envs/python/lib/python3.6/site-packages/pandas/core/internals/construction.py\u001b[0m in \u001b[0;36m_convert_object_array\u001b[0;34m(content, columns, coerce_float, dtype)\u001b[0m\n\u001b[1;32m    582\u001b[0m                 \u001b[0;34m\"{col:d} columns passed, passed data had \"\u001b[0m\u001b[0;34m\u001b[0m\u001b[0;34m\u001b[0m\u001b[0m\n\u001b[0;32m--> 583\u001b[0;31m                 \u001b[0;34m\"{con} columns\"\u001b[0m\u001b[0;34m.\u001b[0m\u001b[0mformat\u001b[0m\u001b[0;34m(\u001b[0m\u001b[0mcol\u001b[0m\u001b[0;34m=\u001b[0m\u001b[0mlen\u001b[0m\u001b[0;34m(\u001b[0m\u001b[0mcolumns\u001b[0m\u001b[0;34m)\u001b[0m\u001b[0;34m,\u001b[0m \u001b[0mcon\u001b[0m\u001b[0;34m=\u001b[0m\u001b[0mlen\u001b[0m\u001b[0;34m(\u001b[0m\u001b[0mcontent\u001b[0m\u001b[0;34m)\u001b[0m\u001b[0;34m)\u001b[0m\u001b[0;34m\u001b[0m\u001b[0;34m\u001b[0m\u001b[0m\n\u001b[0m\u001b[1;32m    584\u001b[0m             )\n",
      "\u001b[0;31mAssertionError\u001b[0m: 135 columns passed, passed data had 132 columns",
      "\nThe above exception was the direct cause of the following exception:\n",
      "\u001b[0;31mValueError\u001b[0m                                Traceback (most recent call last)",
      "\u001b[0;32m<ipython-input-8-4a0de73a24ed>\u001b[0m in \u001b[0;36m<module>\u001b[0;34m\u001b[0m\n\u001b[1;32m      2\u001b[0m \u001b[0mcolNames\u001b[0m \u001b[0;34m=\u001b[0m \u001b[0myears\u001b[0m\u001b[0;34m\u001b[0m\u001b[0;34m\u001b[0m\u001b[0m\n\u001b[1;32m      3\u001b[0m \u001b[0mdictOne\u001b[0m \u001b[0;34m=\u001b[0m \u001b[0mmyDict\u001b[0m\u001b[0;34m\u001b[0m\u001b[0;34m\u001b[0m\u001b[0m\n\u001b[0;32m----> 4\u001b[0;31m \u001b[0mdf1\u001b[0m \u001b[0;34m=\u001b[0m \u001b[0mpd\u001b[0m\u001b[0;34m.\u001b[0m\u001b[0mDataFrame\u001b[0m\u001b[0;34m.\u001b[0m\u001b[0mfrom_dict\u001b[0m\u001b[0;34m(\u001b[0m\u001b[0mdictOne\u001b[0m\u001b[0;34m,\u001b[0m \u001b[0morient\u001b[0m\u001b[0;34m=\u001b[0m\u001b[0;34m'index'\u001b[0m\u001b[0;34m,\u001b[0m \u001b[0mcolumns\u001b[0m\u001b[0;34m=\u001b[0m\u001b[0mcolNames\u001b[0m\u001b[0;34m)\u001b[0m\u001b[0;34m\u001b[0m\u001b[0;34m\u001b[0m\u001b[0m\n\u001b[0m\u001b[1;32m      5\u001b[0m \u001b[0mdf1\u001b[0m\u001b[0;34m\u001b[0m\u001b[0;34m\u001b[0m\u001b[0m\n",
      "\u001b[0;32m~/conda/envs/python/lib/python3.6/site-packages/pandas/core/frame.py\u001b[0m in \u001b[0;36mfrom_dict\u001b[0;34m(cls, data, orient, dtype, columns)\u001b[0m\n\u001b[1;32m   1188\u001b[0m             \u001b[0;32mraise\u001b[0m \u001b[0mValueError\u001b[0m\u001b[0;34m(\u001b[0m\u001b[0;34m\"only recognize index or columns for orient\"\u001b[0m\u001b[0;34m)\u001b[0m\u001b[0;34m\u001b[0m\u001b[0;34m\u001b[0m\u001b[0m\n\u001b[1;32m   1189\u001b[0m \u001b[0;34m\u001b[0m\u001b[0m\n\u001b[0;32m-> 1190\u001b[0;31m         \u001b[0;32mreturn\u001b[0m \u001b[0mcls\u001b[0m\u001b[0;34m(\u001b[0m\u001b[0mdata\u001b[0m\u001b[0;34m,\u001b[0m \u001b[0mindex\u001b[0m\u001b[0;34m=\u001b[0m\u001b[0mindex\u001b[0m\u001b[0;34m,\u001b[0m \u001b[0mcolumns\u001b[0m\u001b[0;34m=\u001b[0m\u001b[0mcolumns\u001b[0m\u001b[0;34m,\u001b[0m \u001b[0mdtype\u001b[0m\u001b[0;34m=\u001b[0m\u001b[0mdtype\u001b[0m\u001b[0;34m)\u001b[0m\u001b[0;34m\u001b[0m\u001b[0;34m\u001b[0m\u001b[0m\n\u001b[0m\u001b[1;32m   1191\u001b[0m \u001b[0;34m\u001b[0m\u001b[0m\n\u001b[1;32m   1192\u001b[0m     \u001b[0;32mdef\u001b[0m \u001b[0mto_numpy\u001b[0m\u001b[0;34m(\u001b[0m\u001b[0mself\u001b[0m\u001b[0;34m,\u001b[0m \u001b[0mdtype\u001b[0m\u001b[0;34m=\u001b[0m\u001b[0;32mNone\u001b[0m\u001b[0;34m,\u001b[0m \u001b[0mcopy\u001b[0m\u001b[0;34m=\u001b[0m\u001b[0;32mFalse\u001b[0m\u001b[0;34m)\u001b[0m\u001b[0;34m:\u001b[0m\u001b[0;34m\u001b[0m\u001b[0;34m\u001b[0m\u001b[0m\n",
      "\u001b[0;32m~/conda/envs/python/lib/python3.6/site-packages/pandas/core/frame.py\u001b[0m in \u001b[0;36m__init__\u001b[0;34m(self, data, index, columns, dtype, copy)\u001b[0m\n\u001b[1;32m    448\u001b[0m                     \u001b[0;32mif\u001b[0m \u001b[0mis_named_tuple\u001b[0m\u001b[0;34m(\u001b[0m\u001b[0mdata\u001b[0m\u001b[0;34m[\u001b[0m\u001b[0;36m0\u001b[0m\u001b[0;34m]\u001b[0m\u001b[0;34m)\u001b[0m \u001b[0;32mand\u001b[0m \u001b[0mcolumns\u001b[0m \u001b[0;32mis\u001b[0m \u001b[0;32mNone\u001b[0m\u001b[0;34m:\u001b[0m\u001b[0;34m\u001b[0m\u001b[0;34m\u001b[0m\u001b[0m\n\u001b[1;32m    449\u001b[0m                         \u001b[0mcolumns\u001b[0m \u001b[0;34m=\u001b[0m \u001b[0mdata\u001b[0m\u001b[0;34m[\u001b[0m\u001b[0;36m0\u001b[0m\u001b[0;34m]\u001b[0m\u001b[0;34m.\u001b[0m\u001b[0m_fields\u001b[0m\u001b[0;34m\u001b[0m\u001b[0;34m\u001b[0m\u001b[0m\n\u001b[0;32m--> 450\u001b[0;31m                     \u001b[0marrays\u001b[0m\u001b[0;34m,\u001b[0m \u001b[0mcolumns\u001b[0m \u001b[0;34m=\u001b[0m \u001b[0mto_arrays\u001b[0m\u001b[0;34m(\u001b[0m\u001b[0mdata\u001b[0m\u001b[0;34m,\u001b[0m \u001b[0mcolumns\u001b[0m\u001b[0;34m,\u001b[0m \u001b[0mdtype\u001b[0m\u001b[0;34m=\u001b[0m\u001b[0mdtype\u001b[0m\u001b[0;34m)\u001b[0m\u001b[0;34m\u001b[0m\u001b[0;34m\u001b[0m\u001b[0m\n\u001b[0m\u001b[1;32m    451\u001b[0m                     \u001b[0mcolumns\u001b[0m \u001b[0;34m=\u001b[0m \u001b[0mensure_index\u001b[0m\u001b[0;34m(\u001b[0m\u001b[0mcolumns\u001b[0m\u001b[0;34m)\u001b[0m\u001b[0;34m\u001b[0m\u001b[0;34m\u001b[0m\u001b[0m\n\u001b[1;32m    452\u001b[0m \u001b[0;34m\u001b[0m\u001b[0m\n",
      "\u001b[0;32m~/conda/envs/python/lib/python3.6/site-packages/pandas/core/internals/construction.py\u001b[0m in \u001b[0;36mto_arrays\u001b[0;34m(data, columns, coerce_float, dtype)\u001b[0m\n\u001b[1;32m    462\u001b[0m         \u001b[0;32mreturn\u001b[0m \u001b[0;34m[\u001b[0m\u001b[0;34m]\u001b[0m\u001b[0;34m,\u001b[0m \u001b[0;34m[\u001b[0m\u001b[0;34m]\u001b[0m  \u001b[0;31m# columns if columns is not None else []\u001b[0m\u001b[0;34m\u001b[0m\u001b[0;34m\u001b[0m\u001b[0m\n\u001b[1;32m    463\u001b[0m     \u001b[0;32mif\u001b[0m \u001b[0misinstance\u001b[0m\u001b[0;34m(\u001b[0m\u001b[0mdata\u001b[0m\u001b[0;34m[\u001b[0m\u001b[0;36m0\u001b[0m\u001b[0;34m]\u001b[0m\u001b[0;34m,\u001b[0m \u001b[0;34m(\u001b[0m\u001b[0mlist\u001b[0m\u001b[0;34m,\u001b[0m \u001b[0mtuple\u001b[0m\u001b[0;34m)\u001b[0m\u001b[0;34m)\u001b[0m\u001b[0;34m:\u001b[0m\u001b[0;34m\u001b[0m\u001b[0;34m\u001b[0m\u001b[0m\n\u001b[0;32m--> 464\u001b[0;31m         \u001b[0;32mreturn\u001b[0m \u001b[0m_list_to_arrays\u001b[0m\u001b[0;34m(\u001b[0m\u001b[0mdata\u001b[0m\u001b[0;34m,\u001b[0m \u001b[0mcolumns\u001b[0m\u001b[0;34m,\u001b[0m \u001b[0mcoerce_float\u001b[0m\u001b[0;34m=\u001b[0m\u001b[0mcoerce_float\u001b[0m\u001b[0;34m,\u001b[0m \u001b[0mdtype\u001b[0m\u001b[0;34m=\u001b[0m\u001b[0mdtype\u001b[0m\u001b[0;34m)\u001b[0m\u001b[0;34m\u001b[0m\u001b[0;34m\u001b[0m\u001b[0m\n\u001b[0m\u001b[1;32m    465\u001b[0m     \u001b[0;32melif\u001b[0m \u001b[0misinstance\u001b[0m\u001b[0;34m(\u001b[0m\u001b[0mdata\u001b[0m\u001b[0;34m[\u001b[0m\u001b[0;36m0\u001b[0m\u001b[0;34m]\u001b[0m\u001b[0;34m,\u001b[0m \u001b[0mabc\u001b[0m\u001b[0;34m.\u001b[0m\u001b[0mMapping\u001b[0m\u001b[0;34m)\u001b[0m\u001b[0;34m:\u001b[0m\u001b[0;34m\u001b[0m\u001b[0;34m\u001b[0m\u001b[0m\n\u001b[1;32m    466\u001b[0m         return _list_of_dict_to_arrays(\n",
      "\u001b[0;32m~/conda/envs/python/lib/python3.6/site-packages/pandas/core/internals/construction.py\u001b[0m in \u001b[0;36m_list_to_arrays\u001b[0;34m(data, columns, coerce_float, dtype)\u001b[0m\n\u001b[1;32m    501\u001b[0m         )\n\u001b[1;32m    502\u001b[0m     \u001b[0;32mexcept\u001b[0m \u001b[0mAssertionError\u001b[0m \u001b[0;32mas\u001b[0m \u001b[0me\u001b[0m\u001b[0;34m:\u001b[0m\u001b[0;34m\u001b[0m\u001b[0;34m\u001b[0m\u001b[0m\n\u001b[0;32m--> 503\u001b[0;31m         \u001b[0;32mraise\u001b[0m \u001b[0mValueError\u001b[0m\u001b[0;34m(\u001b[0m\u001b[0me\u001b[0m\u001b[0;34m)\u001b[0m \u001b[0;32mfrom\u001b[0m \u001b[0me\u001b[0m\u001b[0;34m\u001b[0m\u001b[0;34m\u001b[0m\u001b[0m\n\u001b[0m\u001b[1;32m    504\u001b[0m     \u001b[0;32mreturn\u001b[0m \u001b[0mresult\u001b[0m\u001b[0;34m\u001b[0m\u001b[0;34m\u001b[0m\u001b[0m\n\u001b[1;32m    505\u001b[0m \u001b[0;34m\u001b[0m\u001b[0m\n",
      "\u001b[0;31mValueError\u001b[0m: 135 columns passed, passed data had 132 columns"
     ]
    }
   ],
   "source": [
    "import pandas as pd # Don't forget to import!\n",
    "colNames = years\n",
    "dictOne = myDict\n",
    "df1 = pd.DataFrame.from_dict(dictOne, orient='index', columns=colNames)\n",
    "df1"
   ]
  },
  {
   "cell_type": "code",
   "execution_count": 123,
   "metadata": {},
   "outputs": [],
   "source": [
    "# convert all columns of DataFrame\n",
    "df_num = df1.apply(pd.to_numeric) # convert all columns of DataFrame"
   ]
  },
  {
   "cell_type": "code",
   "execution_count": 124,
   "metadata": {},
   "outputs": [
    {
     "data": {
      "text/plain": [
       "jolie    9.021533\n",
       "dtype: float64"
      ]
     },
     "execution_count": 124,
     "metadata": {},
     "output_type": "execute_result"
    }
   ],
   "source": [
    "#calculate mean along the rows\n",
    "df_num.mean(axis=1)"
   ]
  },
  {
   "cell_type": "code",
   "execution_count": 125,
   "metadata": {},
   "outputs": [
    {
     "data": {
      "text/plain": [
       "jolie    1235.95\n",
       "dtype: float64"
      ]
     },
     "execution_count": 125,
     "metadata": {},
     "output_type": "execute_result"
    }
   ],
   "source": [
    "#calculate mean along the rows\n",
    "df_num.sum(axis=1)"
   ]
  },
  {
   "cell_type": "code",
   "execution_count": 126,
   "metadata": {},
   "outputs": [
    {
     "data": {
      "text/plain": [
       "jolie    143.0\n",
       "dtype: float64"
      ]
     },
     "execution_count": 126,
     "metadata": {},
     "output_type": "execute_result"
    }
   ],
   "source": [
    "#calculate mean along the rows\n",
    "df_num.max(axis=1)"
   ]
  },
  {
   "cell_type": "code",
   "execution_count": 34,
   "metadata": {},
   "outputs": [
    {
     "data": {
      "text/plain": [
       "139"
      ]
     },
     "execution_count": 34,
     "metadata": {},
     "output_type": "execute_result"
    }
   ],
   "source": [
    "2019 - 1880"
   ]
  },
  {
   "cell_type": "code",
   "execution_count": 127,
   "metadata": {},
   "outputs": [
    {
     "name": "stdout",
     "output_type": "stream",
     "text": [
      "Max values of row are at following columns :\n",
      "jolie    2016\n",
      "dtype: object\n"
     ]
    }
   ],
   "source": [
    "# get the column name of max values in every row\n",
    "#https://thispointer.com/pandas-find-maximum-values-position-in-columns-or-rows-of-a-dataframe/\n",
    "\n",
    "maxValueIndexObj = df_num.idxmax(axis=1)\n",
    "print(\"Max values of row are at following columns :\")\n",
    "print(maxValueIndexObj)"
   ]
  },
  {
   "cell_type": "code",
   "execution_count": 128,
   "metadata": {},
   "outputs": [
    {
     "data": {
      "text/plain": [
       "'2016'"
      ]
     },
     "execution_count": 128,
     "metadata": {},
     "output_type": "execute_result"
    }
   ],
   "source": [
    "maxValueIndexObj[0]"
   ]
  },
  {
   "cell_type": "code",
   "execution_count": 129,
   "metadata": {},
   "outputs": [],
   "source": [
    "#add year with max value to the dataframe\n",
    "df_num_max = df_num\n",
    "\n",
    "df_num_max['max_year']=maxValueIndexObj\n",
    "df_num_max\n",
    "\n",
    "# convert all columns of DataFrame\n",
    "df_num_max = df_num_max.apply(pd.to_numeric) # convert all columns of DataFrame"
   ]
  },
  {
   "cell_type": "code",
   "execution_count": 130,
   "metadata": {},
   "outputs": [],
   "source": [
    "df_row_count = df_num_max.shape[0]\n"
   ]
  },
  {
   "cell_type": "code",
   "execution_count": 131,
   "metadata": {
    "collapsed": true,
    "jupyter": {
     "outputs_hidden": true
    }
   },
   "outputs": [
    {
     "data": {
      "text/plain": [
       "1880           0.0\n",
       "1881           0.0\n",
       "1882           0.0\n",
       "1883           0.0\n",
       "1884           0.0\n",
       "             ...  \n",
       "2013         106.0\n",
       "2014         124.0\n",
       "2015         133.0\n",
       "2016         143.0\n",
       "max_year    2016.0\n",
       "Length: 138, dtype: float64"
      ]
     },
     "execution_count": 131,
     "metadata": {},
     "output_type": "execute_result"
    }
   ],
   "source": [
    "df_num.sum(axis = 0, skipna = True) "
   ]
  },
  {
   "cell_type": "code",
   "execution_count": 132,
   "metadata": {},
   "outputs": [
    {
     "data": {
      "text/plain": [
       "2016"
      ]
     },
     "execution_count": 132,
     "metadata": {},
     "output_type": "execute_result"
    }
   ],
   "source": [
    "Total = df_num_max['max_year'].sum()\n",
    "\n",
    "Total"
   ]
  },
  {
   "cell_type": "code",
   "execution_count": 133,
   "metadata": {},
   "outputs": [
    {
     "data": {
      "text/plain": [
       "2019"
      ]
     },
     "execution_count": 133,
     "metadata": {},
     "output_type": "execute_result"
    }
   ],
   "source": [
    "import time\n",
    "this_year, month, day, hour, minute = map(int, time.strftime(\"%Y %m %d %H %M\").split())\n",
    "this_year"
   ]
  },
  {
   "cell_type": "code",
   "execution_count": 134,
   "metadata": {},
   "outputs": [
    {
     "data": {
      "text/html": [
       "<div>\n",
       "<style scoped>\n",
       "    .dataframe tbody tr th:only-of-type {\n",
       "        vertical-align: middle;\n",
       "    }\n",
       "\n",
       "    .dataframe tbody tr th {\n",
       "        vertical-align: top;\n",
       "    }\n",
       "\n",
       "    .dataframe thead th {\n",
       "        text-align: right;\n",
       "    }\n",
       "</style>\n",
       "<table border=\"1\" class=\"dataframe\">\n",
       "  <thead>\n",
       "    <tr style=\"text-align: right;\">\n",
       "      <th></th>\n",
       "      <th>1880</th>\n",
       "      <th>1881</th>\n",
       "      <th>1882</th>\n",
       "      <th>1883</th>\n",
       "      <th>1884</th>\n",
       "      <th>1885</th>\n",
       "      <th>1886</th>\n",
       "      <th>1887</th>\n",
       "      <th>1888</th>\n",
       "      <th>1889</th>\n",
       "      <th>...</th>\n",
       "      <th>2009</th>\n",
       "      <th>2010</th>\n",
       "      <th>2011</th>\n",
       "      <th>2012</th>\n",
       "      <th>2013</th>\n",
       "      <th>2014</th>\n",
       "      <th>2015</th>\n",
       "      <th>2016</th>\n",
       "      <th>max_year</th>\n",
       "      <th>max_age</th>\n",
       "    </tr>\n",
       "  </thead>\n",
       "  <tbody>\n",
       "    <tr>\n",
       "      <td>jolie</td>\n",
       "      <td>0</td>\n",
       "      <td>0</td>\n",
       "      <td>0</td>\n",
       "      <td>0</td>\n",
       "      <td>0</td>\n",
       "      <td>0</td>\n",
       "      <td>0</td>\n",
       "      <td>0</td>\n",
       "      <td>0</td>\n",
       "      <td>0</td>\n",
       "      <td>...</td>\n",
       "      <td>47</td>\n",
       "      <td>61</td>\n",
       "      <td>108</td>\n",
       "      <td>106</td>\n",
       "      <td>106</td>\n",
       "      <td>124</td>\n",
       "      <td>133</td>\n",
       "      <td>143</td>\n",
       "      <td>2016</td>\n",
       "      <td>3</td>\n",
       "    </tr>\n",
       "  </tbody>\n",
       "</table>\n",
       "<p>1 rows × 139 columns</p>\n",
       "</div>"
      ],
      "text/plain": [
       "       1880  1881  1882  1883  1884  1885  1886  1887  1888  1889  ...  2009  \\\n",
       "jolie     0     0     0     0     0     0     0     0     0     0  ...    47   \n",
       "\n",
       "       2010  2011  2012  2013  2014  2015  2016  max_year  max_age  \n",
       "jolie    61   108   106   106   124   133   143      2016        3  \n",
       "\n",
       "[1 rows x 139 columns]"
      ]
     },
     "execution_count": 134,
     "metadata": {},
     "output_type": "execute_result"
    }
   ],
   "source": [
    "df_num_age = df_num_max\n",
    "df_num_age['max_age'] =  (this_year - df_num_age['max_year'])\n",
    "df_num_age"
   ]
  },
  {
   "cell_type": "code",
   "execution_count": 135,
   "metadata": {},
   "outputs": [
    {
     "data": {
      "text/plain": [
       "3"
      ]
     },
     "execution_count": 135,
     "metadata": {},
     "output_type": "execute_result"
    }
   ],
   "source": [
    "Total_age = df_num_age['max_age'].sum()\n",
    "\n",
    "Total_age"
   ]
  },
  {
   "cell_type": "code",
   "execution_count": 136,
   "metadata": {},
   "outputs": [
    {
     "data": {
      "text/plain": [
       "3.0"
      ]
     },
     "execution_count": 136,
     "metadata": {},
     "output_type": "execute_result"
    }
   ],
   "source": [
    "Avg_age = Total_age / df_num_age.shape[0]\n",
    "Avg_age"
   ]
  },
  {
   "cell_type": "markdown",
   "metadata": {},
   "source": [
    "\n",
    "<hr>\n"
   ]
  },
  {
   "cell_type": "markdown",
   "metadata": {},
   "source": [
    "## Opdracht 2: Kwaliteitsdimensies en kwaliteitsindicatoren\n",
    "\n",
    "Neem het projectplan dat u zelf heeft gemaakt bij de eindopdracht van week 1.\n",
    "\n",
    "Voeg aan dat projectplan een beschrijving toe van de kwaliteit van een van de big databronnen die als input worden gebruikt. Doe dit door uitwerking van de vijf kwaliteitsdimensies:\n",
    "Relevantie,\n",
    "Nauwkeurigheid en Betrouwbaarheid,\n",
    "Actualiteit en Punctualiteit,\n",
    "Samenhang en Vergelijkbaarheid,\n",
    "Toegankelijkheid en Duidelijkheid.\n",
    "Definieer een kwaliteitsindicator voor deze big databron volgens het sjabloon uit de presentatie over kwaliteit. Maak zelf een kwaliteitsindicator die past bij de big databron uit het eigen onderzoek. Volg daarbij het sjabloon dat in de introductiefilm van week 4 is gebruikt bij de kwaliteitsindicator ‘Tijdigheid’ op pagina 5."
   ]
  },
  {
   "cell_type": "code",
   "execution_count": null,
   "metadata": {},
   "outputs": [],
   "source": []
  }
 ],
 "metadata": {
  "kernelspec": {
   "display_name": "Python",
   "language": "python",
   "name": "conda-env-python-py"
  },
  "language_info": {
   "codemirror_mode": {
    "name": "ipython",
    "version": 3
   },
   "file_extension": ".py",
   "mimetype": "text/x-python",
   "name": "python",
   "nbconvert_exporter": "python",
   "pygments_lexer": "ipython3",
   "version": "3.6.7"
  }
 },
 "nbformat": 4,
 "nbformat_minor": 4
}
