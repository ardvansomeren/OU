{
 "cells": [
  {
   "cell_type": "markdown",
   "metadata": {},
   "source": [
    "# BIG data and Statistics"
   ]
  },
  {
   "cell_type": "markdown",
   "metadata": {},
   "source": [
    "Management, Science & Technology - IC3110 Big Data en statistiek\n",
    "https://youlearn.ou.nl/web/ic3110-statistiek-en-big-data/dashboard"
   ]
  },
  {
   "cell_type": "markdown",
   "metadata": {},
   "source": [
    "## Voorkennis"
   ]
  },
  {
   "cell_type": "markdown",
   "metadata": {},
   "source": [
    "### 1\n",
    "Bedenk een uitkomst die gemaakt kan worden via een enquête in de trein, die waardevol is voor de directie van de Nederlandse Spoorwegen. Wat is een nadeel van een enquête in de trein?"
   ]
  },
  {
   "cell_type": "markdown",
   "metadata": {},
   "source": [
    "Ik neem aan dat de NS wil onderzoeken waarom of hoe vaak mensen het openbaar vervoer kiezen. Er zijn verschillende nadelen aan een enquete in de trein.\n",
    "  * Je bereikt niet de mensen die niet of nooit het openbaar vervoer kiezen\n",
    "  * De trein is niet altijd een ideale plek om een enquete rustig af te nemen, je stoort mensen en ze zouden in een openbare ruimte andere antwoorden kunnen geven dan thuis aan de keukentafel"
   ]
  },
  {
   "cell_type": "markdown",
   "metadata": {},
   "source": [
    "### 2\n",
    "Is het mogelijk om iets zeggen over werkloosheid in een gemeente door een enquête te houden in de binnenstad van die gemeente op een doordeweekse dag? En leg uit wat de voor- en nadelen van deze werkwijze zijn."
   ]
  },
  {
   "cell_type": "markdown",
   "metadata": {},
   "source": [
    "Het is mogelijk om iets te zeggen over de werkloosheid van mensen die de binnenstad van de gemeente bezoeken op een doordeweekse dag. Deze aanpak gaat er van uit dat werkloze mensen veel 'vrije' tijd hebben en dus gaan winkelen. Het tegenovergestelde zou wel eens waar kunnen zijn, bijvoorbeeld door gebrek aan middelen of schaamte. Dat laatste heeft ook invloed op de antwoorden die gegeven worden in de openbare ruimte.\n",
    "De kans dat je een juiste steekproef trekt lijkt mij eerder te komen uit de bevolkingsregisters en de administratie van het UWV"
   ]
  },
  {
   "cell_type": "markdown",
   "metadata": {},
   "source": [
    "### 3\n",
    "Stel je hebt de actuele locatie van alle vestigingen van alle bedrijven in Nederland (bestand 1). Uit een enquête van vorig jaar (bestand 2), weet je voor de bedrijven die in de steekproef zaten en gerespondeerd hebben, hoeveel werknemers er aan het begin van dat jaar in totaal voor dat bedrijf werkten. In de enquête is niet specifiek gevraagd naar de aantallen per locatie. Welke problemen kunnen er ontstaan als je beide datasets aan elkaar koppelt?"
   ]
  },
  {
   "cell_type": "markdown",
   "metadata": {},
   "source": [
    "Problemen kunnen ontstaan als je uitspraken zou willen doen over regionale verdelingen"
   ]
  },
  {
   "cell_type": "markdown",
   "metadata": {},
   "source": [
    "### 4\n",
    "Kunnen uitspraken worden gedaan over de Nederlandse bevolking met data afkomstig van Snapchat, Instagram of Twitter? Licht uw antwoord toe."
   ]
  },
  {
   "cell_type": "markdown",
   "metadata": {},
   "source": [
    "Niet iedereen hanteert zijn eigen taal als voertaal op sociale platformen. Juist om de toegankelijkheid van de berichten te vergroten wordt ook vaak voor een wereldtaal gekozen bijvoorbeeld Engels. Niets aan de berichten zelf en ook in de profielen is te achterhalen of iemand Nederlands is in die gevallen."
   ]
  },
  {
   "cell_type": "markdown",
   "metadata": {},
   "source": [
    "### 5\n",
    "Kan het huidige gemiddeld inkomen van de Nederlandse bevolking worden berekend met behulp van gegevens van de Belastingdienst, zoals de aangifte inkomstenbelasting? Of zijn er betere alternatieven?"
   ]
  },
  {
   "cell_type": "markdown",
   "metadata": {},
   "source": [
    "In eerste instantie zou ik zeggen dat de belasting toch over deze gegevens zou moeten beschikken... "
   ]
  },
  {
   "cell_type": "code",
   "execution_count": null,
   "metadata": {},
   "outputs": [],
   "source": []
  }
 ],
 "metadata": {
  "kernelspec": {
   "display_name": "Python",
   "language": "python",
   "name": "conda-env-python-py"
  },
  "language_info": {
   "codemirror_mode": {
    "name": "ipython",
    "version": 3
   },
   "file_extension": ".py",
   "mimetype": "text/x-python",
   "name": "python",
   "nbconvert_exporter": "python",
   "pygments_lexer": "ipython3",
   "version": "3.6.7"
  }
 },
 "nbformat": 4,
 "nbformat_minor": 4
}
